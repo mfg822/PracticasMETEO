{
 "cells": [
  {
   "cell_type": "code",
   "execution_count": null,
   "metadata": {
    "vscode": {
     "languageId": "r"
    }
   },
   "outputs": [
    {
     "ename": "",
     "evalue": "",
     "output_type": "error",
     "traceback": [
      "\u001b[1;31mFailed to start the Kernel. \n",
      "\u001b[1;31mView Jupyter <a href='command:jupyter.viewOutput'>log</a> for further details."
     ]
    }
   ],
   "source": [
    "library(loadeR)\n",
    "library(transformeR)\n",
    "library(visualizeR)\n",
    "library(climate4R.UDG)\n",
    "library(dplyr)"
   ]
  },
  {
   "cell_type": "markdown",
   "metadata": {},
   "source": [
    "# DATOS AEMET"
   ]
  },
  {
   "cell_type": "markdown",
   "metadata": {},
   "source": [
    "Cubren el periodo de 1951 - 2022. Para estudio de caracterización y tendencias se puede usar todo el periodo, pero de cara a modelos habra que escoger un periodo mas corto."
   ]
  },
  {
   "cell_type": "code",
   "execution_count": 2,
   "metadata": {
    "vscode": {
     "languageId": "r"
    }
   },
   "outputs": [
    {
     "name": "stderr",
     "output_type": "stream",
     "text": [
      "[2024-04-04 10:34:19] Doing inventory ...\n",
      "[2024-04-04 10:34:20] Opening dataset...\n",
      "[2024-04-04 10:34:26] The dataset was successfuly opened\n",
      "[2024-04-04 10:34:27] Retrieving info for 'pr' (2 vars remaining)\n",
      "[2024-04-04 10:34:28] Retrieving info for 'tasmax' (1 vars remaining)\n",
      "[2024-04-04 10:34:28] Retrieving info for 'tasmin' (0 vars remaining)\n",
      "[2024-04-04 10:34:29] Done.\n"
     ]
    }
   ],
   "source": [
    "# Leer el archivo CSV\n",
    "df <- read.csv(\"inventory.csv\")\n",
    "\n",
    "# Filtrar los enlaces que necesitas\n",
    "sub <- subset(df, product == 'AEMET-5KM-regular')\n",
    "obs.url <- as.character(sub$location)\n",
    "\n",
    "# Ejecutar dataInventory con los enlaces filtrados\n",
    "di <- dataInventory(obs.url)\n"
   ]
  },
  {
   "cell_type": "code",
   "execution_count": null,
   "metadata": {
    "vscode": {
     "languageId": "r"
    }
   },
   "outputs": [],
   "source": [
    "pr1 <- readRDS(\"pr51_61.rds\")\n",
    "pr2 <- readRDS(\"pr62_72.rds\")\n",
    "pr3 <- readRDS(\"pr73_83.rds\")\n",
    "pr4 <- readRDS(\"pr84_94.rds\")\n",
    "pr5 <- readRDS(\"pr95_05.rds\")\n",
    "pr6 <- readRDS(\"pr06_16.rds\")\n",
    "pr7 <- readRDS(\"pr17_22.rds\")\n",
    "pr <- bindGrid(pr1, pr2, pr3, pr4, pr5, pr6, pr7, dimension = \"time\")\n",
    "rm(pr1, pr2, pr3, pr4, pr5, pr6, pr7)"
   ]
  },
  {
   "cell_type": "code",
   "execution_count": null,
   "metadata": {
    "vscode": {
     "languageId": "r"
    }
   },
   "outputs": [],
   "source": [
    "t1 <- readRDS(\"tmax51_61.rds\")\n",
    "t2 <- readRDS(\"tmax62_72.rds\")\n",
    "t3 <- readRDS(\"tmax73_83.rds\")\n",
    "t4 <- readRDS(\"tmax84_94.rds\")\n",
    "t5 <- readRDS(\"tmax95_05.rds\")\n",
    "t6 <- readRDS(\"tmax06_16.rds\")\n",
    "t7 <- readRDS(\"tmax17_22.rds\")\n",
    "tmax <- bindGrid(t1, t2, t3, t4, t5, t6, t7, dimension = \"time\")\n",
    "rm(t1, t2, t3, t4, t5, t6, t7)"
   ]
  },
  {
   "cell_type": "code",
   "execution_count": 3,
   "metadata": {
    "vscode": {
     "languageId": "r"
    }
   },
   "outputs": [],
   "source": [
    "y1 <- seq(1951,1961, by = 1)\n",
    "y2 <- seq(1962,1972, by = 1)\n",
    "y3 <- seq(1973,1983, by = 1)\n",
    "y4 <- seq(1984,1994, by = 1)\n",
    "y5 <- seq(1995,2005, by = 1)\n",
    "y6 <- seq(2006,2016, by = 1)\n",
    "y7 <- seq(2017,2022, by = 1)"
   ]
  },
  {
   "cell_type": "code",
   "execution_count": 5,
   "metadata": {
    "vscode": {
     "languageId": "r"
    }
   },
   "outputs": [],
   "source": [
    "tmax1 <- upscaleGrid(tmax1, times = 2, aggr.fun = list(FUN = mean, na.rm = TRUE))"
   ]
  },
  {
   "cell_type": "code",
   "execution_count": 6,
   "metadata": {
    "vscode": {
     "languageId": "r"
    }
   },
   "outputs": [],
   "source": [
    "saveRDS(tmax1, \"tmax17_22.rds\", compress = \"xz\")"
   ]
  },
  {
   "cell_type": "code",
   "execution_count": 17,
   "metadata": {
    "vscode": {
     "languageId": "r"
    }
   },
   "outputs": [
    {
     "name": "stderr",
     "output_type": "stream",
     "text": [
      "[2024-04-03 12:51:32] Opening dataset...\n",
      "[2024-04-03 12:52:16] The dataset was successfuly opened\n",
      "[2024-04-03 12:52:16] Defining geo-location parameters\n",
      "[2024-04-03 12:52:17] Defining time selection parameters\n",
      "[2024-04-03 12:52:17] Retrieving data subset ...\n",
      "[2024-04-03 12:53:59] Done\n"
     ]
    }
   ],
   "source": [
    "pr1 <- loadGridData(obs.url, lonLim = c(-3,-4), latLim = c(42,43), var = \"pr\")"
   ]
  },
  {
   "cell_type": "code",
   "execution_count": 24,
   "metadata": {
    "vscode": {
     "languageId": "r"
    }
   },
   "outputs": [
    {
     "name": "stderr",
     "output_type": "stream",
     "text": [
      "[2024-04-03 13:01:57] Opening dataset...\n",
      "[2024-04-03 13:01:58] The dataset was successfuly opened\n",
      "[2024-04-03 13:01:58] Defining geo-location parameters\n",
      "[2024-04-03 13:01:58] Defining time selection parameters\n",
      "[2024-04-03 13:01:59] Retrieving data subset ...\n",
      "[2024-04-03 13:02:48] Done\n"
     ]
    }
   ],
   "source": [
    "tmax1 <- loadGridData(obs.url, lonLim = c(-3,-4), latLim = c(42,43), var = \"tasmax\")"
   ]
  },
  {
   "cell_type": "code",
   "execution_count": 18,
   "metadata": {
    "vscode": {
     "languageId": "r"
    }
   },
   "outputs": [
    {
     "name": "stdout",
     "output_type": "stream",
     "text": [
      "List of 4\n",
      " $ Variable:List of 2\n",
      "  ..$ varName: chr \"pr\"\n",
      "  ..$ level  : NULL\n",
      "  ..- attr(*, \"use_dictionary\")= logi FALSE\n",
      "  ..- attr(*, \"description\")= chr \"precipitation amount\"\n",
      "  ..- attr(*, \"units\")= chr \"kg m-2\"\n",
      "  ..- attr(*, \"longname\")= chr \"pr\"\n",
      "  ..- attr(*, \"daily_agg_cellfun\")= chr \"none\"\n",
      "  ..- attr(*, \"monthly_agg_cellfun\")= chr \"none\"\n",
      "  ..- attr(*, \"verification_time\")= chr \"none\"\n",
      " $ Data    : num [1:26298, 1:21, 1:21] NaN NaN NaN NaN NaN NaN NaN NaN NaN NaN ...\n",
      "  ..- attr(*, \"dimensions\")= chr [1:3] \"time\" \"lat\" \"lon\"\n",
      " $ xyCoords:List of 2\n",
      "  ..$ x: num [1:21] -4.02 -3.97 -3.92 -3.87 -3.82 ...\n",
      "  ..$ y: num [1:21] 42 42.1 42.1 42.2 42.2 ...\n",
      "  ..- attr(*, \"projection\")= chr \"LatLonProjection\"\n",
      "  ..- attr(*, \"resX\")= num 0.05\n",
      "  ..- attr(*, \"resY\")= num 0.05\n",
      " $ Dates   :List of 2\n",
      "  ..$ start: chr [1:26298] \"1951-01-01 00:00:00 GMT\" \"1951-01-02 00:00:00 GMT\" \"1951-01-03 00:00:00 GMT\" \"1951-01-04 00:00:00 GMT\" ...\n",
      "  ..$ end  : chr [1:26298] \"1951-01-01 00:00:00 GMT\" \"1951-01-02 00:00:00 GMT\" \"1951-01-03 00:00:00 GMT\" \"1951-01-04 00:00:00 GMT\" ...\n",
      " - attr(*, \"dataset\")= chr \"https://data.meteo.unican.es/thredds/dodsC/PTI-clima/observations/OBSERVATIONS_AEMET-5KM-regular_Iberia_day_20240319.ncml\"\n",
      " - attr(*, \"R_package_desc\")= chr \"loadeR-v1.8.1\"\n",
      " - attr(*, \"R_package_URL\")= chr \"https://github.com/SantanderMetGroup/loadeR\"\n",
      " - attr(*, \"R_package_ref\")= chr \"https://doi.org/10.1016/j.envsoft.2018.09.009\"\n"
     ]
    }
   ],
   "source": [
    "str(pr1)"
   ]
  },
  {
   "cell_type": "code",
   "execution_count": 25,
   "metadata": {
    "vscode": {
     "languageId": "r"
    }
   },
   "outputs": [],
   "source": [
    "tmax <- upscaleGrid(tmax1, times = 2, aggr.fun = list(FUN = mean, na.rm = TRUE))"
   ]
  },
  {
   "cell_type": "code",
   "execution_count": 26,
   "metadata": {
    "vscode": {
     "languageId": "r"
    }
   },
   "outputs": [],
   "source": [
    "tmax4 <- subsetGrid(tmax, lonLim = c(-3.6, -3.1), latLim = c(42.4, 42.8))"
   ]
  },
  {
   "cell_type": "code",
   "execution_count": 27,
   "metadata": {
    "vscode": {
     "languageId": "r"
    }
   },
   "outputs": [],
   "source": [
    "saveRDS(tmax4, \"../gridbox/tmax.rds\", compress = \"xz\")"
   ]
  },
  {
   "cell_type": "code",
   "execution_count": null,
   "metadata": {
    "vscode": {
     "languageId": "r"
    }
   },
   "outputs": [],
   "source": [
    "saveRDS(pr1, \"pr17_22.rds\", compress = \"xz\")"
   ]
  },
  {
   "cell_type": "code",
   "execution_count": 6,
   "metadata": {
    "vscode": {
     "languageId": "r"
    }
   },
   "outputs": [],
   "source": [
    "tmax1 <- upscaleGrid(tmax1, times = 2, aggr.fun = list(FUN = mean, na.rm = TRUE))"
   ]
  },
  {
   "cell_type": "code",
   "execution_count": 7,
   "metadata": {
    "vscode": {
     "languageId": "r"
    }
   },
   "outputs": [],
   "source": [
    "saveRDS(tmax1, \"tmax73_83.rds\", compress = \"xz\")"
   ]
  },
  {
   "cell_type": "code",
   "execution_count": 2,
   "metadata": {
    "vscode": {
     "languageId": "r"
    }
   },
   "outputs": [],
   "source": [
    "data <- readRDS(\"tmax62_72.rds\")"
   ]
  },
  {
   "cell_type": "code",
   "execution_count": null,
   "metadata": {
    "vscode": {
     "languageId": "r"
    }
   },
   "outputs": [
    {
     "name": "stdout",
     "output_type": "stream",
     "text": [
      "List of 4\n",
      " $ Variable:List of 2\n",
      "  ..$ varName: chr \"tasmax\"\n",
      "  ..$ level  : NULL\n",
      "  ..- attr(*, \"use_dictionary\")= logi FALSE\n",
      "  ..- attr(*, \"description\")= chr \"temperature\"\n",
      "  ..- attr(*, \"units\")= chr \"C\"\n",
      "  ..- attr(*, \"longname\")= chr \"tasmax\"\n",
      "  ..- attr(*, \"daily_agg_cellfun\")= chr \"none\"\n",
      "  ..- attr(*, \"monthly_agg_cellfun\")= chr \"none\"\n",
      "  ..- attr(*, \"verification_time\")= chr \"none\"\n",
      " $ Data    : num [1, 1, 1:4018, 1:85, 1:137] NaN NaN NaN NaN NaN NaN NaN NaN NaN NaN ...\n",
      "  ..- attr(*, \"dimensions\")= chr [1:5] \"var\" \"member\" \"time\" \"lat\" ...\n",
      " $ xyCoords:List of 2\n",
      "  ..$ x: num [1:137] -9.3 -9.2 -9.1 -9 -8.9 ...\n",
      "  ..$ y: num [1:85] 35.3 35.4 35.5 35.6 35.7 ...\n",
      "  ..- attr(*, \"projection\")= chr \"LatLonProjection\"\n",
      "  ..- attr(*, \"resX\")= num 0.1\n",
      "  ..- attr(*, \"resY\")= num 0.1\n",
      "  ..- attr(*, \"subset\")= chr \"subsetSpatial\"\n",
      " $ Dates   :List of 2\n",
      "  ..$ start: chr [1:4018] \"1962-01-01 00:00:00 GMT\" \"1962-01-02 00:00:00 GMT\" \"1962-01-03 00:00:00 GMT\" \"1962-01-04 00:00:00 GMT\" ...\n",
      "  ..$ end  : chr [1:4018] \"1962-01-01 00:00:00 GMT\" \"1962-01-02 00:00:00 GMT\" \"1962-01-03 00:00:00 GMT\" \"1962-01-04 00:00:00 GMT\" ...\n",
      " - attr(*, \"dataset\")= chr \"https://data.meteo.unican.es/thredds/dodsC/PTI-clima/observations/OBSERVATIONS_AEMET-5KM-regular_Iberia_day_20240319.ncml\"\n",
      " - attr(*, \"R_package_desc\")= chr \"loadeR-v1.8.1\"\n",
      " - attr(*, \"R_package_URL\")= chr \"https://github.com/SantanderMetGroup/loadeR\"\n",
      " - attr(*, \"R_package_ref\")= chr \"https://doi.org/10.1016/j.envsoft.2018.09.009\"\n"
     ]
    }
   ],
   "source": [
    "str(data$Dates$start)"
   ]
  },
  {
   "cell_type": "code",
   "execution_count": null,
   "metadata": {
    "vscode": {
     "languageId": "r"
    }
   },
   "outputs": [],
   "source": [
    "saveRDS(tmax1, file = \"tmax62_72.rds\", compress = \"xz\")"
   ]
  },
  {
   "cell_type": "code",
   "execution_count": 5,
   "metadata": {
    "vscode": {
     "languageId": "r"
    }
   },
   "outputs": [],
   "source": [
    "pr2 <- upscaleGrid(pr2, times = 2, aggr.fun = list(FUN = mean, na.rm = TRUE))"
   ]
  },
  {
   "cell_type": "code",
   "execution_count": 6,
   "metadata": {
    "vscode": {
     "languageId": "r"
    }
   },
   "outputs": [],
   "source": [
    "saveRDS(pr2, file = \"pr62_72.rds\", compress = \"xz\")"
   ]
  },
  {
   "cell_type": "code",
   "execution_count": null,
   "metadata": {
    "vscode": {
     "languageId": "r"
    }
   },
   "outputs": [],
   "source": [
    "tmax2 <- loadGridData(obs.url, years = y2, var = \"tasmax\")"
   ]
  },
  {
   "cell_type": "code",
   "execution_count": 4,
   "metadata": {
    "vscode": {
     "languageId": "r"
    }
   },
   "outputs": [
    {
     "name": "stderr",
     "output_type": "stream",
     "text": [
      "[2024-03-27 10:26:42] Opening dataset...\n",
      "[2024-03-27 10:26:44] The dataset was successfuly opened\n",
      "[2024-03-27 10:26:44] Defining geo-location parameters\n",
      "[2024-03-27 10:26:44] Defining time selection parameters\n",
      "[2024-03-27 10:26:44] Retrieving data subset ...\n",
      "[2024-03-27 10:30:20] Done\n"
     ]
    }
   ],
   "source": [
    "pr2 <- loadGridData(obs.url, years = y2, var = \"pr\")"
   ]
  },
  {
   "cell_type": "code",
   "execution_count": null,
   "metadata": {
    "vscode": {
     "languageId": "r"
    }
   },
   "outputs": [],
   "source": [
    "tmax3 <- loadGridData(obs.url, years = y3, var = \"tmax\")\n",
    "tmax4 <- loadGridData(obs.url, years = y4, var = \"tmax\")\n",
    "tmax5 <- loadGridData(obs.url, years = y5, var = \"tmax\")\n",
    "tmax6 <- loadGridData(obs.url, years = y6, var = \"tmax\")\n",
    "tmax7 <- loadGridData(obs.url, years = y7, var = \"tmax\")"
   ]
  },
  {
   "cell_type": "code",
   "execution_count": 8,
   "metadata": {
    "vscode": {
     "languageId": "r"
    }
   },
   "outputs": [
    {
     "name": "stderr",
     "output_type": "stream",
     "text": [
      "[2024-03-26 14:29:07] Opening dataset...\n",
      "[2024-03-26 14:29:10] The dataset was successfuly opened\n",
      "[2024-03-26 14:29:10] Defining geo-location parameters\n",
      "[2024-03-26 14:29:10] Defining time selection parameters\n",
      "[2024-03-26 14:29:11] Retrieving data subset ...\n",
      "[2024-03-26 14:29:23] Done\n"
     ]
    }
   ],
   "source": [
    "tmax <- loadGridData(obs.url, years = c(2001,2002,2003), var=\"tasmax\") # aquí se está leyendo enero de 2000, si quieres todo el periodo deja esos argumentos vacíos o especifica season y years con un vector."
   ]
  },
  {
   "cell_type": "code",
   "execution_count": 9,
   "metadata": {
    "vscode": {
     "languageId": "r"
    }
   },
   "outputs": [
    {
     "name": "stderr",
     "output_type": "stream",
     "text": [
      "[2024-03-26 14:29:25] Opening dataset...\n",
      "[2024-03-26 14:29:27] The dataset was successfuly opened\n",
      "[2024-03-26 14:29:27] Defining geo-location parameters\n",
      "[2024-03-26 14:29:27] Defining time selection parameters\n",
      "[2024-03-26 14:29:27] Retrieving data subset ...\n",
      "[2024-03-26 14:29:40] Done\n"
     ]
    }
   ],
   "source": [
    "pr <- loadGridData(obs.url, years = c(2001,2002,2003), var=\"pr\")"
   ]
  },
  {
   "cell_type": "markdown",
   "metadata": {},
   "source": [
    "# Upper Scale"
   ]
  },
  {
   "cell_type": "markdown",
   "metadata": {},
   "source": [
    "# BindGrid"
   ]
  },
  {
   "cell_type": "markdown",
   "metadata": {},
   "source": [
    "# Subset"
   ]
  },
  {
   "cell_type": "code",
   "execution_count": 2,
   "metadata": {
    "vscode": {
     "languageId": "r"
    }
   },
   "outputs": [
    {
     "data": {
      "text/html": [],
      "text/latex": [],
      "text/markdown": [],
      "text/plain": [
       "character(0)"
      ]
     },
     "metadata": {},
     "output_type": "display_data"
    }
   ],
   "source": [
    "ls()"
   ]
  },
  {
   "cell_type": "code",
   "execution_count": 2,
   "metadata": {
    "vscode": {
     "languageId": "r"
    }
   },
   "outputs": [],
   "source": [
    "pr <- readRDS(\"../subset/3/pr06_22.rds\")\n",
    "tmax <- readRDS(\"../subset/3/tmax06_22.rds\")"
   ]
  },
  {
   "cell_type": "code",
   "execution_count": 4,
   "metadata": {
    "vscode": {
     "languageId": "r"
    }
   },
   "outputs": [],
   "source": [
    "# Define the seasons and years to process\n",
    "seasons <- list(Winter = c(12, 1, 2), Spring = c(3, 4, 5), Summer = c(6, 7, 8), Autumn = c(9, 10, 11))\n",
    "years <- seq(2006, 2022, by = 1)\n",
    "\n",
    "processed_data <- function(data){\n",
    "    # Function to obtain the data by season and year\n",
    "    # data: a grid with the data\n",
    "    \n",
    "    new_data <- lapply(as.character(years), function(y) {\n",
    "        new_data_year <- list()\n",
    "        \n",
    "        for (season_name in names(seasons)) {\n",
    "            season_months <- seasons[[season_name]]\n",
    "            \n",
    "            if (season_name == \"Winter\") {\n",
    "                # Winter, include December of the previous year\n",
    "                if (as.numeric(y) != min(years)) {\n",
    "                    previous_dec <- subsetGrid(data, year = as.numeric(y) - 1, season = c(12))\n",
    "                    current_en_feb <- subsetGrid(data, year = as.numeric(y), season = c(1, 2))\n",
    "                    winter_data <- bindGrid(previous_dec, current_en_feb, dimension = \"time\")\n",
    "                    new_data_year[[season_name]] <- winter_data\n",
    "                } else {\n",
    "                    current_en_feb <- subsetGrid(data, year = as.numeric(y), season = c(1, 2))\n",
    "                    new_data_year[[season_name]] <- current_en_feb\n",
    "                }\n",
    "            } else {\n",
    "                # Rest of the seasons\n",
    "                data_season_year <- subsetGrid(data, year = as.numeric(y), season = season_months)\n",
    "                new_data_year[[season_name]] <- data_season_year\n",
    "            }\n",
    "        }\n",
    "        \n",
    "        return(new_data_year)\n",
    "    })\n",
    "    \n",
    "    names(new_data) <- as.character(years)\n",
    "    \n",
    "    return(new_data)\n",
    "}"
   ]
  },
  {
   "cell_type": "code",
   "execution_count": 5,
   "metadata": {
    "vscode": {
     "languageId": "r"
    }
   },
   "outputs": [],
   "source": [
    "pr <- processed_data(pr)"
   ]
  },
  {
   "cell_type": "code",
   "execution_count": 7,
   "metadata": {
    "vscode": {
     "languageId": "r"
    }
   },
   "outputs": [],
   "source": [
    "saveRDS(pr, \"../subset/3/pr_y_s_06_22.rds\", compress = \"xz\")"
   ]
  },
  {
   "cell_type": "code",
   "execution_count": 9,
   "metadata": {
    "vscode": {
     "languageId": "r"
    }
   },
   "outputs": [
    {
     "data": {
      "text/html": [
       "<ol class=list-inline>\n",
       "\t<li>'pr'</li>\n",
       "\t<li>'processed_data'</li>\n",
       "\t<li>'seasons'</li>\n",
       "\t<li>'tmax'</li>\n",
       "\t<li>'years'</li>\n",
       "</ol>\n"
      ],
      "text/latex": [
       "\\begin{enumerate*}\n",
       "\\item 'pr'\n",
       "\\item 'processed\\_data'\n",
       "\\item 'seasons'\n",
       "\\item 'tmax'\n",
       "\\item 'years'\n",
       "\\end{enumerate*}\n"
      ],
      "text/markdown": [
       "1. 'pr'\n",
       "2. 'processed_data'\n",
       "3. 'seasons'\n",
       "4. 'tmax'\n",
       "5. 'years'\n",
       "\n",
       "\n"
      ],
      "text/plain": [
       "[1] \"pr\"             \"processed_data\" \"seasons\"        \"tmax\"          \n",
       "[5] \"years\"         "
      ]
     },
     "metadata": {},
     "output_type": "display_data"
    }
   ],
   "source": [
    "ls()"
   ]
  },
  {
   "cell_type": "code",
   "execution_count": 8,
   "metadata": {
    "vscode": {
     "languageId": "r"
    }
   },
   "outputs": [],
   "source": [
    "tmax <- processed_data(tmax)"
   ]
  },
  {
   "cell_type": "code",
   "execution_count": 9,
   "metadata": {
    "vscode": {
     "languageId": "r"
    }
   },
   "outputs": [],
   "source": [
    "saveRDS(tmax, \"../subset/3/tmax_y_s_06_22.rds\", compress = \"xz\")"
   ]
  }
 ],
 "metadata": {
  "kernelspec": {
   "display_name": "R",
   "language": "R",
   "name": "ir"
  },
  "language_info": {
   "codemirror_mode": "r",
   "file_extension": ".r",
   "mimetype": "text/x-r-source",
   "name": "R",
   "pygments_lexer": "r",
   "version": "3.6.1"
  }
 },
 "nbformat": 4,
 "nbformat_minor": 2
}
