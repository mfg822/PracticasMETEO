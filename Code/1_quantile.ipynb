{
 "cells": [
  {
   "cell_type": "markdown",
   "metadata": {},
   "source": [
    "# Quantile"
   ]
  },
  {
   "cell_type": "markdown",
   "metadata": {},
   "source": [
    "This Jupyter notebook allows you to obtain the desired percentiles based on the data and the percentile you want to obtain"
   ]
  },
  {
   "cell_type": "code",
   "execution_count": 1,
   "metadata": {
    "vscode": {
     "languageId": "r"
    }
   },
   "outputs": [
    {
     "name": "stderr",
     "output_type": "stream",
     "text": [
      "Warning message:\n",
      "\"package 'loadeR' was built under R version 3.6.3\"Loading required package: rJava\n",
      "Warning message:\n",
      "\"package 'rJava' was built under R version 3.6.3\""
     ]
    },
    {
     "name": "stderr",
     "output_type": "stream",
     "text": [
      "Loading required package: loadeR.java\n",
      "Warning message:\n",
      "\"package 'loadeR.java' was built under R version 3.6.3\"Java version 21x amd64 by Azul Systems, Inc. detected\n",
      "NetCDF Java Library v4.6.0-SNAPSHOT (23 Apr 2015) loaded and ready\n",
      "Loading required package: climate4R.UDG\n",
      "Warning message:\n",
      "\"package 'climate4R.UDG' was built under R version 3.6.3\"climate4R.UDG version 0.2.6 (2023-06-26) is loaded\n",
      "Please use 'citation(\"climate4R.UDG\")' to cite this package.\n",
      "loadeR version 1.8.1 (2023-06-22) is loaded\n",
      "Please use 'citation(\"loadeR\")' to cite this package.\n",
      "Warning message:\n",
      "\"package 'transformeR' was built under R version 3.6.3\""
     ]
    },
    {
     "name": "stdout",
     "output_type": "stream",
     "text": [
      "\n",
      "    _______   ____  ___________________  __  ________ \n",
      "   / ___/ /  / /  |/  / __  /_  __/ __/ / / / / __  / \n",
      "  / /  / /  / / /|_/ / /_/ / / / / __/ / /_/ / /_/_/  \n",
      " / /__/ /__/ / /  / / __  / / / / /__ /___  / / \\ \\ \n",
      " \\___/____/_/_/  /_/_/ /_/ /_/  \\___/    /_/\\/   \\_\\ \n",
      " \n",
      "      github.com/SantanderMetGroup/climate4R\n",
      "\n"
     ]
    },
    {
     "name": "stderr",
     "output_type": "stream",
     "text": [
      "transformeR version 2.2.2 (2023-10-26) is loaded\n",
      "Please see 'citation(\"transformeR\")' to cite this package.\n",
      "Warning message:\n",
      "\"package 'visualizeR' was built under R version 3.6.3\"visualizeR version 1.6.4 (2023-10-26) is loaded\n",
      "Please see 'citation(\"visualizeR\")' to cite this package.\n"
     ]
    }
   ],
   "source": [
    "library(loadeR)\n",
    "library(transformeR)\n",
    "library(visualizeR)"
   ]
  },
  {
   "cell_type": "markdown",
   "metadata": {},
   "source": [
    "### Load Data"
   ]
  },
  {
   "cell_type": "code",
   "execution_count": 2,
   "metadata": {
    "vscode": {
     "languageId": "r"
    }
   },
   "outputs": [],
   "source": [
    "load(\"../pr_iberia01_1971-2015.Rdata\")\n",
    "pr <- data\n",
    "\n",
    "load(\"../tasmax_iberia01_1971-2015.Rdata\")\n",
    "tmax <- data\n",
    "\n",
    "rm(data)"
   ]
  },
  {
   "cell_type": "markdown",
   "metadata": {},
   "source": [
    "### Reference Quantile"
   ]
  },
  {
   "cell_type": "markdown",
   "metadata": {},
   "source": [
    "This function `ref_quantile`, calculate the reference quantiles, that are used later to make a comparison and binarize the data to work with."
   ]
  },
  {
   "cell_type": "code",
   "execution_count": 3,
   "metadata": {
    "vscode": {
     "languageId": "r"
    }
   },
   "outputs": [],
   "source": [
    "seasons <- list(Winter = c(12, 1, 2), Spring = c(3, 4, 5), Summer = c(6, 7, 8), Autumn = c(9, 10, 11))"
   ]
  },
  {
   "cell_type": "code",
   "execution_count": 4,
   "metadata": {
    "vscode": {
     "languageId": "r"
    }
   },
   "outputs": [],
   "source": [
    "# Function to apply climatology to a dataset for a specific season and quantile level\n",
    "ref_quantile <- function(data, quantile) {\n",
    "    # data: a grid with the data\n",
    "    # quantile: number of the quantile to calculate\n",
    "  results <- list()\n",
    "  for (season_name in names(seasons)) {\n",
    "    season_month <- seasons[[season_name]]\n",
    "    season_data <- subsetGrid(data, season = season_month)\n",
    "    quantile_result <- climatology(season_data, clim.fun = list(FUN = \"quantile\", probs = quantile, na.rm = TRUE))\n",
    "    results[[season_name]] <- quantile_result\n",
    "  }\n",
    "  return(results)\n",
    "}"
   ]
  },
  {
   "cell_type": "code",
   "execution_count": 5,
   "metadata": {
    "vscode": {
     "languageId": "r"
    }
   },
   "outputs": [
    {
     "name": "stderr",
     "output_type": "stream",
     "text": [
      "NOTE: Some data will be lost on year-crossing season subset (see the 'Time slicing' section of subsetGrid documentation for more details)\n",
      "[2024-03-14 11:01:04] - Computing climatology...\n",
      "[2024-03-14 11:01:08] - Done.\n",
      "[2024-03-14 11:01:14] - Computing climatology...\n",
      "[2024-03-14 11:01:20] - Done.\n",
      "[2024-03-14 11:01:21] - Computing climatology...\n",
      "[2024-03-14 11:01:26] - Done.\n",
      "[2024-03-14 11:01:28] - Computing climatology...\n",
      "[2024-03-14 11:01:31] - Done.\n",
      "NOTE: Some data will be lost on year-crossing season subset (see the 'Time slicing' section of subsetGrid documentation for more details)\n",
      "[2024-03-14 11:01:39] - Computing climatology...\n",
      "[2024-03-14 11:01:45] - Done.\n",
      "[2024-03-14 11:01:47] - Computing climatology...\n",
      "[2024-03-14 11:01:53] - Done.\n",
      "[2024-03-14 11:01:54] - Computing climatology...\n",
      "[2024-03-14 11:01:57] - Done.\n",
      "[2024-03-14 11:01:58] - Computing climatology...\n",
      "[2024-03-14 11:02:01] - Done.\n"
     ]
    }
   ],
   "source": [
    "pr10 <- ref_quantile(pr, 0.10)\n",
    "tmax90 <- ref_quantile(tmax, 0.90)"
   ]
  },
  {
   "cell_type": "markdown",
   "metadata": {},
   "source": [
    "## Parte Húmeda"
   ]
  },
  {
   "cell_type": "code",
   "execution_count": 7,
   "metadata": {
    "vscode": {
     "languageId": "r"
    }
   },
   "outputs": [
    {
     "name": "stdout",
     "output_type": "stream",
     "text": [
      "[1] 16436    79   137\n"
     ]
    }
   ],
   "source": [
    "dimension <- dim(pr$Data)\n",
    "print(dimension)"
   ]
  },
  {
   "cell_type": "code",
   "execution_count": 8,
   "metadata": {
    "vscode": {
     "languageId": "r"
    }
   },
   "outputs": [],
   "source": [
    "for (a in 1:dimension[1]) {\n",
    "  for (i in 1:dimension[2]) {\n",
    "    for (j in 1:dimension[3]) {\n",
    "      if (!is.na(pr$Data[a,i,j])) { # Check for missing values\n",
    "          if (pr$Data[a,i,j] <= 0.1) {\n",
    "              pr$Data[a,i,j] <- NaN\n",
    "            }\n",
    "          }\n",
    "        }\n",
    "      }\n",
    "  }"
   ]
  },
  {
   "cell_type": "code",
   "execution_count": 9,
   "metadata": {
    "vscode": {
     "languageId": "r"
    }
   },
   "outputs": [
    {
     "name": "stderr",
     "output_type": "stream",
     "text": [
      "NOTE: Some data will be lost on year-crossing season subset (see the 'Time slicing' section of subsetGrid documentation for more details)\n",
      "[2024-03-14 11:08:03] - Computing climatology...\n",
      "[2024-03-14 11:08:09] - Done.\n",
      "[2024-03-14 11:08:15] - Computing climatology...\n",
      "[2024-03-14 11:08:21] - Done.\n",
      "[2024-03-14 11:08:24] - Computing climatology...\n",
      "[2024-03-14 11:08:29] - Done.\n",
      "[2024-03-14 11:08:32] - Computing climatology...\n",
      "[2024-03-14 11:08:36] - Done.\n"
     ]
    }
   ],
   "source": [
    "pr10_h <- ref_quantile(pr, 0.10)"
   ]
  },
  {
   "cell_type": "code",
   "execution_count": null,
   "metadata": {
    "vscode": {
     "languageId": "r"
    }
   },
   "outputs": [],
   "source": [
    "saveRDS(pr, \"pr_humeda.rds\", compress = \"xz\")"
   ]
  },
  {
   "cell_type": "code",
   "execution_count": 13,
   "metadata": {
    "vscode": {
     "languageId": "r"
    }
   },
   "outputs": [],
   "source": [
    "saveRDS(pr10, \"pr10.rds\", compress = \"xz\")"
   ]
  },
  {
   "cell_type": "code",
   "execution_count": 14,
   "metadata": {
    "vscode": {
     "languageId": "r"
    }
   },
   "outputs": [],
   "source": [
    "saveRDS(tmax90, \"tmax90.rds\", compress = \"xz\")"
   ]
  },
  {
   "cell_type": "code",
   "execution_count": 20,
   "metadata": {
    "vscode": {
     "languageId": "r"
    }
   },
   "outputs": [],
   "source": [
    "saveRDS(pr10_h, \"pr10_h.rds\", compress = \"xz\")"
   ]
  },
  {
   "cell_type": "markdown",
   "metadata": {},
   "source": [
    "## Visualización"
   ]
  },
  {
   "cell_type": "code",
   "execution_count": 6,
   "metadata": {
    "vscode": {
     "languageId": "r"
    }
   },
   "outputs": [],
   "source": [
    "pr10_h <- readRDS(\"pr10_h.rds\")\n",
    "tmax90 <- readRDS(\"tmax90.rds\")"
   ]
  },
  {
   "cell_type": "code",
   "execution_count": 16,
   "metadata": {
    "vscode": {
     "languageId": "r"
    }
   },
   "outputs": [
    {
     "data": {
      "image/png": "[encoded data removed]",
      "text/plain": [
       "plot without title"
      ]
     },
     "metadata": {},
     "output_type": "display_data"
    }
   ],
   "source": [
    "precip10 <- bindGrid(pr10$Winter, pr10$Spring, pr10$Summer, pr10$Autumn, dimension = \"member\", skip.temporal.check = TRUE)\n",
    "spatialPlot(precip10, backdrop.theme = \"coastline\", color.theme = \"jet.colors\", names.attr = c(\"Winter\", \"Spring\", \"Summer\", \"Autumn\"), as.table = TRUE)"
   ]
  },
  {
   "cell_type": "code",
   "execution_count": 17,
   "metadata": {
    "vscode": {
     "languageId": "r"
    }
   },
   "outputs": [
    {
     "data": {
      "image/png": "[encoded data removed]",
      "text/plain": [
       "plot without title"
      ]
     },
     "metadata": {},
     "output_type": "display_data"
    }
   ],
   "source": [
    "precip10_h <- bindGrid(pr10_h$Winter, pr10_h$Spring, pr10_h$Summer, pr10_h$Autumn, dimension = \"member\", skip.temporal.check = TRUE)\n",
    "spatialPlot(precip10_h, backdrop.theme = \"coastline\", color.theme = \"jet.colors\", names.attr = c(\"Winter\", \"Spring\", \"Summer\", \"Autumn\"), as.table = TRUE)"
   ]
  },
  {
   "cell_type": "code",
   "execution_count": 18,
   "metadata": {
    "vscode": {
     "languageId": "r"
    }
   },
   "outputs": [
    {
     "data": {
      "image/png": "[encoded data removed]",
      "text/plain": [
       "plot without title"
      ]
     },
     "metadata": {},
     "output_type": "display_data"
    }
   ],
   "source": [
    "temp90 <- bindGrid(tmax90$Winter, tmax90$Spring, tmax90$Summer, tmax90$Autumn, dimension = \"member\", skip.temporal.check = TRUE)\n",
    "spatialPlot(temp90, backdrop.theme = \"coastline\", color.theme = \"jet.colors\", names.attr = c(\"Winter\", \"Spring\", \"Summer\", \"Autumn\"), as.table = TRUE)"
   ]
  }
 ],
 "metadata": {
  "kernelspec": {
   "display_name": "R",
   "language": "R",
   "name": "ir"
  },
  "language_info": {
   "codemirror_mode": "r",
   "file_extension": ".r",
   "mimetype": "text/x-r-source",
   "name": "R",
   "pygments_lexer": "r",
   "version": "3.6.1"
  }
 },
 "nbformat": 4,
 "nbformat_minor": 2
}
