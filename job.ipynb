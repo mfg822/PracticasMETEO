{
 "cells": [
  {
   "cell_type": "code",
   "execution_count": 1,
   "metadata": {
    "vscode": {
     "languageId": "r"
    }
   },
   "outputs": [
    {
     "name": "stderr",
     "output_type": "stream",
     "text": [
      "Warning message:\n",
      "\"package 'loadeR' was built under R version 3.6.3\""
     ]
    },
    {
     "name": "stderr",
     "output_type": "stream",
     "text": [
      "Loading required package: rJava\n",
      "Warning message:\n",
      "\"package 'rJava' was built under R version 3.6.3\"Loading required package: loadeR.java\n",
      "Warning message:\n",
      "\"package 'loadeR.java' was built under R version 3.6.3\"Java version 21x amd64 by Azul Systems, Inc. detected\n",
      "NetCDF Java Library v4.6.0-SNAPSHOT (23 Apr 2015) loaded and ready\n",
      "Loading required package: climate4R.UDG\n",
      "Warning message:\n",
      "\"package 'climate4R.UDG' was built under R version 3.6.3\"climate4R.UDG version 0.2.6 (2023-06-26) is loaded\n",
      "Please use 'citation(\"climate4R.UDG\")' to cite this package.\n",
      "loadeR version 1.8.1 (2023-06-22) is loaded\n",
      "Please use 'citation(\"loadeR\")' to cite this package.\n",
      "Warning message:\n",
      "\"package 'transformeR' was built under R version 3.6.3\""
     ]
    },
    {
     "name": "stdout",
     "output_type": "stream",
     "text": [
      "\n",
      "    _______   ____  ___________________  __  ________ \n",
      "   / ___/ /  / /  |/  / __  /_  __/ __/ / / / / __  / \n",
      "  / /  / /  / / /|_/ / /_/ / / / / __/ / /_/ / /_/_/  \n",
      " / /__/ /__/ / /  / / __  / / / / /__ /___  / / \\ \\ \n",
      " \\___/____/_/_/  /_/_/ /_/ /_/  \\___/    /_/\\/   \\_\\ \n",
      " \n",
      "      github.com/SantanderMetGroup/climate4R\n",
      "\n"
     ]
    },
    {
     "name": "stderr",
     "output_type": "stream",
     "text": [
      "transformeR version 2.2.2 (2023-10-26) is loaded\n",
      "Please see 'citation(\"transformeR\")' to cite this package.\n",
      "Warning message:\n",
      "\"package 'visualizeR' was built under R version 3.6.3\"visualizeR version 1.6.4 (2023-10-26) is loaded\n",
      "Please see 'citation(\"visualizeR\")' to cite this package.\n",
      "Warning message:\n",
      "\"package 'dplyr' was built under R version 3.6.3\"\n",
      "Attaching package: 'dplyr'\n",
      "\n",
      "The following objects are masked from 'package:stats':\n",
      "\n",
      "    filter, lag\n",
      "\n",
      "The following objects are masked from 'package:base':\n",
      "\n",
      "    intersect, setdiff, setequal, union\n",
      "\n",
      "Warning message:\n",
      "\"package 'climate4R.value' was built under R version 3.6.3\"Loading required package: VALUE\n",
      "Warning message:\n",
      "\"package 'VALUE' was built under R version 3.6.3\"---------------------------------------------- \n",
      "| VALUE version 2.2.4 (2023-06-22) is loaded |\n",
      "|         http://www.value-cost.eu           |\n",
      "----------------------------------------------\n"
     ]
    }
   ],
   "source": [
    "library(loadeR)\n",
    "library(transformeR)\n",
    "library(visualizeR)\n",
    "library(climate4R.UDG)\n",
    "library(dplyr)\n",
    "library(climate4R.value)\n",
    "library(VALUE)"
   ]
  },
  {
   "cell_type": "code",
   "execution_count": 4,
   "metadata": {
    "vscode": {
     "languageId": "r"
    }
   },
   "outputs": [
    {
     "name": "stderr",
     "output_type": "stream",
     "text": [
      "[2024-04-10 11:29:51] Doing inventory ...\n",
      "[2024-04-10 11:29:51] Opening dataset...\n",
      "[2024-04-10 11:29:54] The dataset was successfuly opened\n",
      "[2024-04-10 11:29:55] Retrieving info for 'pr' (2 vars remaining)\n",
      "[2024-04-10 11:29:55] Retrieving info for 'tasmax' (1 vars remaining)\n",
      "[2024-04-10 11:29:56] Retrieving info for 'tasmin' (0 vars remaining)\n",
      "[2024-04-10 11:29:56] Done.\n"
     ]
    }
   ],
   "source": [
    "# Leer el archivo CSV\n",
    "df <- read.csv(\"https://data.meteo.unican.es/inventory.csv\") # inventario con muchos datasets\n",
    "# Filtrar los enlaces que necesitas\n",
    "sub <- subset(df, product == 'AEMET-5KM-regular')\n",
    "obs.url <- as.character(sub$location)\n",
    "# Ejecutar dataInventory con los enlaces filtrados\n",
    "di <- dataInventory(obs.url)\n"
   ]
  },
  {
   "cell_type": "code",
   "execution_count": null,
   "metadata": {
    "vscode": {
     "languageId": "r"
    }
   },
   "outputs": [],
   "source": [
    "pr <- loadGridData(obs.url, var = \"pr\")\n",
    "tmax <- loadGridData(obs.url, var = \"tasmax\")"
   ]
  },
  {
   "cell_type": "code",
   "execution_count": 4,
   "metadata": {
    "vscode": {
     "languageId": "r"
    }
   },
   "outputs": [
    {
     "ename": "",
     "evalue": "",
     "output_type": "error",
     "traceback": [
      "\u001b[1;31mThe Kernel crashed while executing code in the current cell or a previous cell. \n",
      "\u001b[1;31mPlease review the code in the cell(s) to identify a possible cause of the failure. \n",
      "\u001b[1;31mClick <a href='https://aka.ms/vscodeJupyterKernelCrash'>here</a> for more info. \n",
      "\u001b[1;31mView Jupyter <a href='command:jupyter.viewOutput'>log</a> for further details."
     ]
    }
   ],
   "source": [
    "pr <- upscaleGrid(pr, times = 2, aggr.fun = list(FUN = mean, na.rm = TRUE))\n",
    "tmax <- upscaleGrid(tmax, times = 2, aggr.fun = list(FUN = mean, na.rm = TRUE))"
   ]
  },
  {
   "cell_type": "markdown",
   "metadata": {},
   "source": [
    "## Quantile"
   ]
  },
  {
   "cell_type": "markdown",
   "metadata": {},
   "source": [
    "### Parte Húmeda"
   ]
  },
  {
   "cell_type": "code",
   "execution_count": 13,
   "metadata": {
    "vscode": {
     "languageId": "r"
    }
   },
   "outputs": [],
   "source": [
    "pr_h <- pr"
   ]
  },
  {
   "cell_type": "code",
   "execution_count": 16,
   "metadata": {
    "vscode": {
     "languageId": "r"
    }
   },
   "outputs": [],
   "source": [
    "# Parte Humeda Precipitacion\n",
    "dimension <- dim(pr_h$Data)\n",
    "for (a in 1:dimension[3]) {\n",
    "  for (i in 1:dimension[4]) {\n",
    "    for (j in 1:dimension[5]) {\n",
    "      if (!is.na(pr_h$Data[1,1,a,i,j])) { # Check for missing values\n",
    "          if (pr_h$Data[1,1,a,i,j] <= 0.1) {\n",
    "              pr_h$Data[1,1,a,i,j] <- NaN\n",
    "            }\n",
    "          }\n",
    "        }\n",
    "      }\n",
    "  }"
   ]
  },
  {
   "cell_type": "code",
   "execution_count": 5,
   "metadata": {
    "vscode": {
     "languageId": "r"
    }
   },
   "outputs": [],
   "source": [
    "seasons <- list(Winter = c(12, 1, 2), Spring = c(3, 4, 5), Summer = c(6, 7, 8), Autumn = c(9, 10, 11))\n",
    "# Function to apply climatology to a dataset for a specific season and quantile level\n",
    "ref_quantile <- function(data, quantile) {\n",
    "    # data: a grid with the data\n",
    "    # quantile: number of the quantile to calculate\n",
    "  results <- list()\n",
    "  for (season_name in names(seasons)) {\n",
    "    season_month <- seasons[[season_name]]\n",
    "    season_data <- subsetGrid(data, season = season_month)\n",
    "    quantile_result <- climatology(season_data, clim.fun = list(FUN = \"quantile\", probs = quantile, na.rm = TRUE))\n",
    "    results[[season_name]] <- quantile_result\n",
    "  }\n",
    "  return(results)\n",
    "}"
   ]
  },
  {
   "cell_type": "code",
   "execution_count": 6,
   "metadata": {
    "vscode": {
     "languageId": "r"
    }
   },
   "outputs": [
    {
     "name": "stderr",
     "output_type": "stream",
     "text": [
      "NOTE: Some data will be lost on year-crossing season subset (see the 'Time slicing' section of subsetGrid documentation for more details)\n",
      "[2024-04-05 13:26:01] - Computing climatology...\n",
      "[2024-04-05 13:26:02] - Done.\n",
      "[2024-04-05 13:26:02] - Computing climatology...\n",
      "[2024-04-05 13:26:03] - Done.\n",
      "[2024-04-05 13:26:03] - Computing climatology...\n",
      "[2024-04-05 13:26:04] - Done.\n",
      "[2024-04-05 13:26:05] - Computing climatology...\n",
      "[2024-04-05 13:26:06] - Done.\n"
     ]
    }
   ],
   "source": [
    "pr_h <- ref_quantile(pr_h, 0.10)\n",
    "tmax_h <- ref_quantile(tmax, 0.90)"
   ]
  },
  {
   "cell_type": "markdown",
   "metadata": {},
   "source": [
    "## Subset"
   ]
  },
  {
   "cell_type": "code",
   "execution_count": 8,
   "metadata": {
    "vscode": {
     "languageId": "r"
    }
   },
   "outputs": [],
   "source": [
    "# Define the seasons and years to process\n",
    "seasons <- list(Winter = c(12, 1, 2), Spring = c(3, 4, 5), Summer = c(6, 7, 8), Autumn = c(9, 10, 11))\n",
    "years <- seq(1951, 2022, by = 1)\n",
    "\n",
    "processed_data <- function(data){\n",
    "    # Function to obtain the data by season and year\n",
    "    # data: a grid with the data\n",
    "    \n",
    "    new_data <- lapply(as.character(years), function(y) {\n",
    "        new_data_year <- list()\n",
    "        \n",
    "        for (season_name in names(seasons)) {\n",
    "            season_months <- seasons[[season_name]]\n",
    "            \n",
    "            if (season_name == \"Winter\") {\n",
    "                # Winter, include December of the previous year\n",
    "                if (as.numeric(y) != min(years)) {\n",
    "                    previous_dec <- subsetGrid(data, year = as.numeric(y) - 1, season = c(12))\n",
    "                    current_en_feb <- subsetGrid(data, year = as.numeric(y), season = c(1, 2))\n",
    "                    winter_data <- bindGrid(previous_dec, current_en_feb, dimension = \"time\")\n",
    "                    new_data_year[[season_name]] <- winter_data\n",
    "                } else {\n",
    "                    current_en_feb <- subsetGrid(data, year = as.numeric(y), season = c(1, 2))\n",
    "                    new_data_year[[season_name]] <- current_en_feb\n",
    "                }\n",
    "            } else {\n",
    "                # Rest of the seasons\n",
    "                data_season_year <- subsetGrid(data, year = as.numeric(y), season = season_months)\n",
    "                new_data_year[[season_name]] <- data_season_year\n",
    "            }\n",
    "        }\n",
    "        \n",
    "        return(new_data_year)\n",
    "    })\n",
    "    \n",
    "    names(new_data) <- as.character(years)\n",
    "    \n",
    "    return(new_data)\n",
    "}"
   ]
  },
  {
   "cell_type": "code",
   "execution_count": 9,
   "metadata": {
    "vscode": {
     "languageId": "r"
    }
   },
   "outputs": [],
   "source": [
    "pr <- processed_data(pr)\n",
    "tmax <- processed_data(tmax)"
   ]
  },
  {
   "cell_type": "markdown",
   "metadata": {},
   "source": [
    "## Binarization"
   ]
  },
  {
   "cell_type": "code",
   "execution_count": 4,
   "metadata": {
    "vscode": {
     "languageId": "r"
    }
   },
   "outputs": [],
   "source": [
    "binarization <- function(grid_data, quantile, variable) {\n",
    "# Iterate over the years in the data grid\n",
    "  for (year in names(grid_data)) {\n",
    "    # Iterate over the seasons of each year\n",
    "    for (season in names(grid_data[[year]])) {\n",
    "      # Get current station data\n",
    "      season_data <- grid_data[[year]][[season]]\n",
    "      season_quantile <- quantile[[season]]\n",
    "      \n",
    "      # Dimension of the data\n",
    "      dims <- dim(season_data$Data)\n",
    "      # Iterate over dimensions and convert to binary\n",
    "      for (a in 1:dims[1]) {\n",
    "        for (i in 1:dims[2]) {\n",
    "          for (j in 1:dims[3]) {\n",
    "            if (!is.na(season_data$Data[a, i, j]) && !is.na(season_quantile$Data[1, i, j])) {\n",
    "              # If it is precipitation\n",
    "              if(variable == \"pr\"){\n",
    "                if (season_data$Data[a, i, j] < season_quantile$Data[1, i, j]) {\n",
    "                  season_data$Data[a, i, j] <- 1\n",
    "                } else {\n",
    "                  season_data$Data[a, i, j] <- 0\n",
    "                }\n",
    "              # If it is tmax\n",
    "              } else if (variable == \"tmax\"){\n",
    "                if (season_data$Data[a, i, j] > season_quantile$Data[1, i, j]) {\n",
    "                  season_data$Data[a, i, j] <- 1\n",
    "                } else {\n",
    "                  season_data$Data[a, i, j] <- 0\n",
    "                }\n",
    "              }\n",
    "            }\n",
    "          }\n",
    "        }\n",
    "      }\n",
    "      \n",
    "      # Actualizar el grid de datos con la estación binarizada\n",
    "      grid_data[[year]][[season]] <- season_data\n",
    "    }\n",
    "  }\n",
    "  \n",
    "  # Devolver el grid de datos binarizado\n",
    "  return(grid_data)\n",
    "}"
   ]
  },
  {
   "cell_type": "code",
   "execution_count": 5,
   "metadata": {
    "vscode": {
     "languageId": "r"
    }
   },
   "outputs": [],
   "source": [
    "pr_bin <- binarization(pr, pr_h, \"pr\")\n",
    "tmax_bin <- binarization(tmax, tmax_h, \"tmax\")"
   ]
  },
  {
   "cell_type": "markdown",
   "metadata": {},
   "source": [
    "## CE"
   ]
  },
  {
   "cell_type": "code",
   "execution_count": 6,
   "metadata": {
    "vscode": {
     "languageId": "r"
    }
   },
   "outputs": [],
   "source": [
    "# Create a function that iter over the years and seasons of two datagrids and execute the function gridArithmetics\n",
    "compound_event <- function(grid1, grid2) {\n",
    "  grid3 <- grid1\n",
    "  # Iterate over the years in the grid\n",
    "  for (year in names(grid1)) {\n",
    "    # Iterate over the seasons in each year\n",
    "    for (season in names(grid1[[year]])) {\n",
    "      # Get the data of the current season\n",
    "      season_data1 <- grid1[[year]][[season]]\n",
    "      season_data2 <- grid2[[year]][[season]]\n",
    "      # Apply the function to the data\n",
    "      event_compount <- gridArithmetics(season_data1, season_data2, operator = \"*\")\n",
    "      # Update the data grid with the result\n",
    "      grid3[[year]][[season]] <- event_compount\n",
    "    }\n",
    "  }\n",
    "  # Return the updated grid\n",
    "  return(grid3)\n",
    "}"
   ]
  },
  {
   "cell_type": "code",
   "execution_count": 7,
   "metadata": {
    "vscode": {
     "languageId": "r"
    }
   },
   "outputs": [],
   "source": [
    "CE <- compound_event(pr_bin, tmax_bin)"
   ]
  },
  {
   "cell_type": "markdown",
   "metadata": {},
   "source": [
    "## SumCE"
   ]
  },
  {
   "cell_type": "code",
   "execution_count": null,
   "metadata": {
    "vscode": {
     "languageId": "r"
    }
   },
   "outputs": [],
   "source": [
    "capa_tierra <- tmax_h$Spring\n",
    "capa_tierra$Data[!is.na(capa_tierra$Data)] <- 1"
   ]
  },
  {
   "cell_type": "code",
   "execution_count": 16,
   "metadata": {
    "vscode": {
     "languageId": "r"
    }
   },
   "outputs": [],
   "source": [
    "# Create a function that iter over the years and seasons of one data grid and execute the function climatology to summarize the data\n",
    "sum_events <- function(grid) {\n",
    "  grid1 <- grid\n",
    "  # Iterate over the years in the grid\n",
    "  for (year in names(grid)) {\n",
    "    # Iterate over the seasons in each year\n",
    "    for (season in names(grid[[year]])) {\n",
    "      # Get the data of the current season\n",
    "      season_data1 <- grid[[year]][[season]]\n",
    "      # Apply the function to the data\n",
    "      sum_events <- climatology(season_data1, clim.fun = list(FUN = \"sum\", na.rm = TRUE))\n",
    "      sum_events <- gridArithmetics(sum_events, capa_tierra, operator = \"*\")\n",
    "      # Update the data grid with the result\n",
    "      grid1[[year]][[season]] <- sum_events\n",
    "    }\n",
    "  }\n",
    "  # Return the updated grid\n",
    "  return(grid1)\n",
    "}"
   ]
  },
  {
   "cell_type": "code",
   "execution_count": 17,
   "metadata": {
    "vscode": {
     "languageId": "r"
    }
   },
   "outputs": [
    {
     "name": "stderr",
     "output_type": "stream",
     "text": [
      "[2024-04-08 10:54:55] - Computing climatology...\n",
      "[2024-04-08 10:54:55] - Done.\n",
      "[2024-04-08 10:54:55] - Computing climatology...\n"
     ]
    },
    {
     "name": "stderr",
     "output_type": "stream",
     "text": [
      "[2024-04-08 10:54:55] - Done.\n",
      "[2024-04-08 10:54:55] - Computing climatology...\n",
      "[2024-04-08 10:54:55] - Done.\n",
      "[2024-04-08 10:54:55] - Computing climatology...\n",
      "[2024-04-08 10:54:55] - Done.\n",
      "[2024-04-08 10:54:56] - Computing climatology...\n",
      "[2024-04-08 10:54:56] - Done.\n",
      "[2024-04-08 10:54:56] - Computing climatology...\n",
      "[2024-04-08 10:54:56] - Done.\n",
      "[2024-04-08 10:54:56] - Computing climatology...\n",
      "[2024-04-08 10:54:56] - Done.\n",
      "[2024-04-08 10:54:56] - Computing climatology...\n",
      "[2024-04-08 10:54:56] - Done.\n",
      "[2024-04-08 10:54:56] - Computing climatology...\n",
      "[2024-04-08 10:54:56] - Done.\n",
      "[2024-04-08 10:54:56] - Computing climatology...\n",
      "[2024-04-08 10:54:56] - Done.\n",
      "[2024-04-08 10:54:56] - Computing climatology...\n",
      "[2024-04-08 10:54:56] - Done.\n",
      "[2024-04-08 10:54:56] - Computing climatology...\n",
      "[2024-04-08 10:54:56] - Done.\n",
      "[2024-04-08 10:54:56] - Computing climatology...\n",
      "[2024-04-08 10:54:56] - Done.\n",
      "[2024-04-08 10:54:56] - Computing climatology...\n",
      "[2024-04-08 10:54:56] - Done.\n",
      "[2024-04-08 10:54:56] - Computing climatology...\n",
      "[2024-04-08 10:54:56] - Done.\n",
      "[2024-04-08 10:54:56] - Computing climatology...\n",
      "[2024-04-08 10:54:56] - Done.\n",
      "[2024-04-08 10:54:56] - Computing climatology...\n",
      "[2024-04-08 10:54:56] - Done.\n",
      "[2024-04-08 10:54:56] - Computing climatology...\n",
      "[2024-04-08 10:54:56] - Done.\n",
      "[2024-04-08 10:54:56] - Computing climatology...\n",
      "[2024-04-08 10:54:56] - Done.\n",
      "[2024-04-08 10:54:56] - Computing climatology...\n",
      "[2024-04-08 10:54:57] - Done.\n",
      "[2024-04-08 10:54:57] - Computing climatology...\n",
      "[2024-04-08 10:54:57] - Done.\n",
      "[2024-04-08 10:54:57] - Computing climatology...\n",
      "[2024-04-08 10:54:57] - Done.\n",
      "[2024-04-08 10:54:57] - Computing climatology...\n",
      "[2024-04-08 10:54:57] - Done.\n",
      "[2024-04-08 10:54:57] - Computing climatology...\n",
      "[2024-04-08 10:54:57] - Done.\n",
      "[2024-04-08 10:54:57] - Computing climatology...\n",
      "[2024-04-08 10:54:57] - Done.\n",
      "[2024-04-08 10:54:57] - Computing climatology...\n",
      "[2024-04-08 10:54:57] - Done.\n",
      "[2024-04-08 10:54:57] - Computing climatology...\n",
      "[2024-04-08 10:54:57] - Done.\n",
      "[2024-04-08 10:54:57] - Computing climatology...\n",
      "[2024-04-08 10:54:57] - Done.\n",
      "[2024-04-08 10:54:57] - Computing climatology...\n",
      "[2024-04-08 10:54:57] - Done.\n",
      "[2024-04-08 10:54:57] - Computing climatology...\n",
      "[2024-04-08 10:54:57] - Done.\n",
      "[2024-04-08 10:54:57] - Computing climatology...\n",
      "[2024-04-08 10:54:57] - Done.\n",
      "[2024-04-08 10:54:57] - Computing climatology...\n",
      "[2024-04-08 10:54:57] - Done.\n",
      "[2024-04-08 10:54:57] - Computing climatology...\n",
      "[2024-04-08 10:54:57] - Done.\n",
      "[2024-04-08 10:54:57] - Computing climatology...\n",
      "[2024-04-08 10:54:57] - Done.\n",
      "[2024-04-08 10:54:57] - Computing climatology...\n",
      "[2024-04-08 10:54:57] - Done.\n",
      "[2024-04-08 10:54:58] - Computing climatology...\n",
      "[2024-04-08 10:54:58] - Done.\n",
      "[2024-04-08 10:54:58] - Computing climatology...\n",
      "[2024-04-08 10:54:58] - Done.\n",
      "[2024-04-08 10:54:58] - Computing climatology...\n",
      "[2024-04-08 10:54:58] - Done.\n",
      "[2024-04-08 10:54:58] - Computing climatology...\n",
      "[2024-04-08 10:54:58] - Done.\n",
      "[2024-04-08 10:54:58] - Computing climatology...\n",
      "[2024-04-08 10:54:58] - Done.\n",
      "[2024-04-08 10:54:58] - Computing climatology...\n",
      "[2024-04-08 10:54:58] - Done.\n",
      "[2024-04-08 10:54:58] - Computing climatology...\n",
      "[2024-04-08 10:54:58] - Done.\n",
      "[2024-04-08 10:54:58] - Computing climatology...\n",
      "[2024-04-08 10:54:58] - Done.\n",
      "[2024-04-08 10:54:58] - Computing climatology...\n",
      "[2024-04-08 10:54:58] - Done.\n",
      "[2024-04-08 10:54:58] - Computing climatology...\n",
      "[2024-04-08 10:54:58] - Done.\n",
      "[2024-04-08 10:54:58] - Computing climatology...\n",
      "[2024-04-08 10:54:58] - Done.\n",
      "[2024-04-08 10:54:58] - Computing climatology...\n",
      "[2024-04-08 10:54:58] - Done.\n",
      "[2024-04-08 10:54:58] - Computing climatology...\n",
      "[2024-04-08 10:54:58] - Done.\n",
      "[2024-04-08 10:54:58] - Computing climatology...\n",
      "[2024-04-08 10:54:58] - Done.\n",
      "[2024-04-08 10:54:58] - Computing climatology...\n",
      "[2024-04-08 10:54:58] - Done.\n",
      "[2024-04-08 10:54:58] - Computing climatology...\n",
      "[2024-04-08 10:54:58] - Done.\n",
      "[2024-04-08 10:54:58] - Computing climatology...\n",
      "[2024-04-08 10:54:58] - Done.\n",
      "[2024-04-08 10:54:58] - Computing climatology...\n",
      "[2024-04-08 10:54:58] - Done.\n",
      "[2024-04-08 10:54:59] - Computing climatology...\n",
      "[2024-04-08 10:54:59] - Done.\n",
      "[2024-04-08 10:54:59] - Computing climatology...\n",
      "[2024-04-08 10:54:59] - Done.\n",
      "[2024-04-08 10:54:59] - Computing climatology...\n",
      "[2024-04-08 10:54:59] - Done.\n",
      "[2024-04-08 10:54:59] - Computing climatology...\n",
      "[2024-04-08 10:54:59] - Done.\n",
      "[2024-04-08 10:54:59] - Computing climatology...\n",
      "[2024-04-08 10:54:59] - Done.\n",
      "[2024-04-08 10:54:59] - Computing climatology...\n",
      "[2024-04-08 10:54:59] - Done.\n",
      "[2024-04-08 10:54:59] - Computing climatology...\n",
      "[2024-04-08 10:54:59] - Done.\n",
      "[2024-04-08 10:54:59] - Computing climatology...\n",
      "[2024-04-08 10:54:59] - Done.\n",
      "[2024-04-08 10:54:59] - Computing climatology...\n",
      "[2024-04-08 10:54:59] - Done.\n",
      "[2024-04-08 10:54:59] - Computing climatology...\n",
      "[2024-04-08 10:54:59] - Done.\n",
      "[2024-04-08 10:54:59] - Computing climatology...\n",
      "[2024-04-08 10:54:59] - Done.\n",
      "[2024-04-08 10:54:59] - Computing climatology...\n",
      "[2024-04-08 10:54:59] - Done.\n",
      "[2024-04-08 10:54:59] - Computing climatology...\n",
      "[2024-04-08 10:54:59] - Done.\n",
      "[2024-04-08 10:54:59] - Computing climatology...\n",
      "[2024-04-08 10:54:59] - Done.\n",
      "[2024-04-08 10:54:59] - Computing climatology...\n",
      "[2024-04-08 10:54:59] - Done.\n",
      "[2024-04-08 10:54:59] - Computing climatology...\n",
      "[2024-04-08 10:54:59] - Done.\n",
      "[2024-04-08 10:54:59] - Computing climatology...\n",
      "[2024-04-08 10:54:59] - Done.\n",
      "[2024-04-08 10:54:59] - Computing climatology...\n",
      "[2024-04-08 10:54:59] - Done.\n",
      "[2024-04-08 10:54:59] - Computing climatology...\n",
      "[2024-04-08 10:54:59] - Done.\n",
      "[2024-04-08 10:54:59] - Computing climatology...\n",
      "[2024-04-08 10:54:59] - Done.\n",
      "[2024-04-08 10:54:59] - Computing climatology...\n",
      "[2024-04-08 10:54:59] - Done.\n",
      "[2024-04-08 10:55:00] - Computing climatology...\n",
      "[2024-04-08 10:55:00] - Done.\n",
      "[2024-04-08 10:55:00] - Computing climatology...\n",
      "[2024-04-08 10:55:00] - Done.\n",
      "[2024-04-08 10:55:00] - Computing climatology...\n",
      "[2024-04-08 10:55:00] - Done.\n",
      "[2024-04-08 10:55:00] - Computing climatology...\n",
      "[2024-04-08 10:55:00] - Done.\n",
      "[2024-04-08 10:55:00] - Computing climatology...\n",
      "[2024-04-08 10:55:00] - Done.\n",
      "[2024-04-08 10:55:00] - Computing climatology...\n",
      "[2024-04-08 10:55:00] - Done.\n",
      "[2024-04-08 10:55:00] - Computing climatology...\n",
      "[2024-04-08 10:55:00] - Done.\n",
      "[2024-04-08 10:55:00] - Computing climatology...\n",
      "[2024-04-08 10:55:00] - Done.\n",
      "[2024-04-08 10:55:00] - Computing climatology...\n",
      "[2024-04-08 10:55:00] - Done.\n",
      "[2024-04-08 10:55:00] - Computing climatology...\n",
      "[2024-04-08 10:55:00] - Done.\n",
      "[2024-04-08 10:55:00] - Computing climatology...\n",
      "[2024-04-08 10:55:00] - Done.\n",
      "[2024-04-08 10:55:00] - Computing climatology...\n",
      "[2024-04-08 10:55:00] - Done.\n",
      "[2024-04-08 10:55:00] - Computing climatology...\n",
      "[2024-04-08 10:55:00] - Done.\n",
      "[2024-04-08 10:55:00] - Computing climatology...\n",
      "[2024-04-08 10:55:00] - Done.\n",
      "[2024-04-08 10:55:00] - Computing climatology...\n",
      "[2024-04-08 10:55:00] - Done.\n",
      "[2024-04-08 10:55:00] - Computing climatology...\n",
      "[2024-04-08 10:55:00] - Done.\n",
      "[2024-04-08 10:55:00] - Computing climatology...\n",
      "[2024-04-08 10:55:00] - Done.\n",
      "[2024-04-08 10:55:00] - Computing climatology...\n",
      "[2024-04-08 10:55:00] - Done.\n",
      "[2024-04-08 10:55:00] - Computing climatology...\n",
      "[2024-04-08 10:55:00] - Done.\n",
      "[2024-04-08 10:55:00] - Computing climatology...\n",
      "[2024-04-08 10:55:00] - Done.\n",
      "[2024-04-08 10:55:00] - Computing climatology...\n",
      "[2024-04-08 10:55:01] - Done.\n",
      "[2024-04-08 10:55:01] - Computing climatology...\n",
      "[2024-04-08 10:55:01] - Done.\n",
      "[2024-04-08 10:55:01] - Computing climatology...\n",
      "[2024-04-08 10:55:01] - Done.\n",
      "[2024-04-08 10:55:01] - Computing climatology...\n",
      "[2024-04-08 10:55:01] - Done.\n",
      "[2024-04-08 10:55:01] - Computing climatology...\n",
      "[2024-04-08 10:55:01] - Done.\n",
      "[2024-04-08 10:55:01] - Computing climatology...\n",
      "[2024-04-08 10:55:01] - Done.\n",
      "[2024-04-08 10:55:01] - Computing climatology...\n",
      "[2024-04-08 10:55:01] - Done.\n",
      "[2024-04-08 10:55:01] - Computing climatology...\n",
      "[2024-04-08 10:55:01] - Done.\n",
      "[2024-04-08 10:55:01] - Computing climatology...\n",
      "[2024-04-08 10:55:01] - Done.\n",
      "[2024-04-08 10:55:01] - Computing climatology...\n",
      "[2024-04-08 10:55:01] - Done.\n",
      "[2024-04-08 10:55:01] - Computing climatology...\n",
      "[2024-04-08 10:55:01] - Done.\n",
      "[2024-04-08 10:55:01] - Computing climatology...\n",
      "[2024-04-08 10:55:01] - Done.\n",
      "[2024-04-08 10:55:01] - Computing climatology...\n",
      "[2024-04-08 10:55:01] - Done.\n",
      "[2024-04-08 10:55:01] - Computing climatology...\n",
      "[2024-04-08 10:55:01] - Done.\n",
      "[2024-04-08 10:55:01] - Computing climatology...\n",
      "[2024-04-08 10:55:01] - Done.\n",
      "[2024-04-08 10:55:01] - Computing climatology...\n",
      "[2024-04-08 10:55:01] - Done.\n",
      "[2024-04-08 10:55:01] - Computing climatology...\n",
      "[2024-04-08 10:55:01] - Done.\n",
      "[2024-04-08 10:55:01] - Computing climatology...\n",
      "[2024-04-08 10:55:01] - Done.\n",
      "[2024-04-08 10:55:01] - Computing climatology...\n",
      "[2024-04-08 10:55:01] - Done.\n",
      "[2024-04-08 10:55:01] - Computing climatology...\n",
      "[2024-04-08 10:55:01] - Done.\n",
      "[2024-04-08 10:55:01] - Computing climatology...\n",
      "[2024-04-08 10:55:02] - Done.\n",
      "[2024-04-08 10:55:02] - Computing climatology...\n",
      "[2024-04-08 10:55:02] - Done.\n",
      "[2024-04-08 10:55:02] - Computing climatology...\n",
      "[2024-04-08 10:55:02] - Done.\n",
      "[2024-04-08 10:55:02] - Computing climatology...\n",
      "[2024-04-08 10:55:02] - Done.\n",
      "[2024-04-08 10:55:02] - Computing climatology...\n",
      "[2024-04-08 10:55:02] - Done.\n",
      "[2024-04-08 10:55:02] - Computing climatology...\n",
      "[2024-04-08 10:55:02] - Done.\n",
      "[2024-04-08 10:55:02] - Computing climatology...\n",
      "[2024-04-08 10:55:02] - Done.\n",
      "[2024-04-08 10:55:02] - Computing climatology...\n",
      "[2024-04-08 10:55:02] - Done.\n",
      "[2024-04-08 10:55:02] - Computing climatology...\n",
      "[2024-04-08 10:55:02] - Done.\n",
      "[2024-04-08 10:55:02] - Computing climatology...\n",
      "[2024-04-08 10:55:02] - Done.\n",
      "[2024-04-08 10:55:02] - Computing climatology...\n",
      "[2024-04-08 10:55:02] - Done.\n",
      "[2024-04-08 10:55:02] - Computing climatology...\n",
      "[2024-04-08 10:55:02] - Done.\n",
      "[2024-04-08 10:55:02] - Computing climatology...\n",
      "[2024-04-08 10:55:02] - Done.\n",
      "[2024-04-08 10:55:02] - Computing climatology...\n",
      "[2024-04-08 10:55:02] - Done.\n",
      "[2024-04-08 10:55:02] - Computing climatology...\n",
      "[2024-04-08 10:55:02] - Done.\n",
      "[2024-04-08 10:55:02] - Computing climatology...\n",
      "[2024-04-08 10:55:02] - Done.\n",
      "[2024-04-08 10:55:02] - Computing climatology...\n",
      "[2024-04-08 10:55:02] - Done.\n",
      "[2024-04-08 10:55:02] - Computing climatology...\n",
      "[2024-04-08 10:55:02] - Done.\n",
      "[2024-04-08 10:55:02] - Computing climatology...\n",
      "[2024-04-08 10:55:02] - Done.\n",
      "[2024-04-08 10:55:02] - Computing climatology...\n",
      "[2024-04-08 10:55:02] - Done.\n",
      "[2024-04-08 10:55:02] - Computing climatology...\n",
      "[2024-04-08 10:55:02] - Done.\n",
      "[2024-04-08 10:55:02] - Computing climatology...\n",
      "[2024-04-08 10:55:02] - Done.\n",
      "[2024-04-08 10:55:02] - Computing climatology...\n",
      "[2024-04-08 10:55:02] - Done.\n",
      "[2024-04-08 10:55:02] - Computing climatology...\n",
      "[2024-04-08 10:55:02] - Done.\n",
      "[2024-04-08 10:55:02] - Computing climatology...\n",
      "[2024-04-08 10:55:02] - Done.\n",
      "[2024-04-08 10:55:02] - Computing climatology...\n",
      "[2024-04-08 10:55:02] - Done.\n",
      "[2024-04-08 10:55:02] - Computing climatology...\n",
      "[2024-04-08 10:55:02] - Done.\n",
      "[2024-04-08 10:55:02] - Computing climatology...\n",
      "[2024-04-08 10:55:02] - Done.\n",
      "[2024-04-08 10:55:03] - Computing climatology...\n",
      "[2024-04-08 10:55:03] - Done.\n",
      "[2024-04-08 10:55:03] - Computing climatology...\n",
      "[2024-04-08 10:55:03] - Done.\n",
      "[2024-04-08 10:55:03] - Computing climatology...\n",
      "[2024-04-08 10:55:03] - Done.\n",
      "[2024-04-08 10:55:03] - Computing climatology...\n",
      "[2024-04-08 10:55:03] - Done.\n",
      "[2024-04-08 10:55:03] - Computing climatology...\n",
      "[2024-04-08 10:55:03] - Done.\n",
      "[2024-04-08 10:55:03] - Computing climatology...\n",
      "[2024-04-08 10:55:03] - Done.\n",
      "[2024-04-08 10:55:03] - Computing climatology...\n",
      "[2024-04-08 10:55:03] - Done.\n",
      "[2024-04-08 10:55:03] - Computing climatology...\n",
      "[2024-04-08 10:55:03] - Done.\n",
      "[2024-04-08 10:55:03] - Computing climatology...\n",
      "[2024-04-08 10:55:03] - Done.\n",
      "[2024-04-08 10:55:03] - Computing climatology...\n",
      "[2024-04-08 10:55:03] - Done.\n",
      "[2024-04-08 10:55:03] - Computing climatology...\n",
      "[2024-04-08 10:55:03] - Done.\n",
      "[2024-04-08 10:55:03] - Computing climatology...\n",
      "[2024-04-08 10:55:03] - Done.\n",
      "[2024-04-08 10:55:03] - Computing climatology...\n",
      "[2024-04-08 10:55:03] - Done.\n",
      "[2024-04-08 10:55:03] - Computing climatology...\n",
      "[2024-04-08 10:55:03] - Done.\n",
      "[2024-04-08 10:55:03] - Computing climatology...\n",
      "[2024-04-08 10:55:03] - Done.\n",
      "[2024-04-08 10:55:03] - Computing climatology...\n",
      "[2024-04-08 10:55:03] - Done.\n",
      "[2024-04-08 10:55:03] - Computing climatology...\n",
      "[2024-04-08 10:55:03] - Done.\n",
      "[2024-04-08 10:55:04] - Computing climatology...\n",
      "[2024-04-08 10:55:04] - Done.\n",
      "[2024-04-08 10:55:04] - Computing climatology...\n",
      "[2024-04-08 10:55:04] - Done.\n",
      "[2024-04-08 10:55:04] - Computing climatology...\n",
      "[2024-04-08 10:55:04] - Done.\n",
      "[2024-04-08 10:55:04] - Computing climatology...\n",
      "[2024-04-08 10:55:04] - Done.\n",
      "[2024-04-08 10:55:04] - Computing climatology...\n",
      "[2024-04-08 10:55:04] - Done.\n",
      "[2024-04-08 10:55:04] - Computing climatology...\n",
      "[2024-04-08 10:55:04] - Done.\n",
      "[2024-04-08 10:55:04] - Computing climatology...\n",
      "[2024-04-08 10:55:04] - Done.\n",
      "[2024-04-08 10:55:04] - Computing climatology...\n",
      "[2024-04-08 10:55:04] - Done.\n",
      "[2024-04-08 10:55:04] - Computing climatology...\n",
      "[2024-04-08 10:55:04] - Done.\n",
      "[2024-04-08 10:55:04] - Computing climatology...\n",
      "[2024-04-08 10:55:04] - Done.\n",
      "[2024-04-08 10:55:04] - Computing climatology...\n",
      "[2024-04-08 10:55:04] - Done.\n",
      "[2024-04-08 10:55:04] - Computing climatology...\n",
      "[2024-04-08 10:55:04] - Done.\n",
      "[2024-04-08 10:55:04] - Computing climatology...\n",
      "[2024-04-08 10:55:04] - Done.\n",
      "[2024-04-08 10:55:04] - Computing climatology...\n",
      "[2024-04-08 10:55:04] - Done.\n",
      "[2024-04-08 10:55:04] - Computing climatology...\n",
      "[2024-04-08 10:55:04] - Done.\n",
      "[2024-04-08 10:55:04] - Computing climatology...\n",
      "[2024-04-08 10:55:04] - Done.\n",
      "[2024-04-08 10:55:04] - Computing climatology...\n",
      "[2024-04-08 10:55:04] - Done.\n",
      "[2024-04-08 10:55:04] - Computing climatology...\n",
      "[2024-04-08 10:55:04] - Done.\n",
      "[2024-04-08 10:55:04] - Computing climatology...\n",
      "[2024-04-08 10:55:04] - Done.\n",
      "[2024-04-08 10:55:04] - Computing climatology...\n",
      "[2024-04-08 10:55:04] - Done.\n",
      "[2024-04-08 10:55:04] - Computing climatology...\n",
      "[2024-04-08 10:55:05] - Done.\n",
      "[2024-04-08 10:55:05] - Computing climatology...\n",
      "[2024-04-08 10:55:05] - Done.\n",
      "[2024-04-08 10:55:05] - Computing climatology...\n",
      "[2024-04-08 10:55:05] - Done.\n",
      "[2024-04-08 10:55:05] - Computing climatology...\n",
      "[2024-04-08 10:55:05] - Done.\n",
      "[2024-04-08 10:55:05] - Computing climatology...\n",
      "[2024-04-08 10:55:05] - Done.\n",
      "[2024-04-08 10:55:05] - Computing climatology...\n",
      "[2024-04-08 10:55:05] - Done.\n",
      "[2024-04-08 10:55:05] - Computing climatology...\n",
      "[2024-04-08 10:55:05] - Done.\n",
      "[2024-04-08 10:55:05] - Computing climatology...\n",
      "[2024-04-08 10:55:05] - Done.\n",
      "[2024-04-08 10:55:05] - Computing climatology...\n",
      "[2024-04-08 10:55:05] - Done.\n",
      "[2024-04-08 10:55:05] - Computing climatology...\n",
      "[2024-04-08 10:55:05] - Done.\n",
      "[2024-04-08 10:55:05] - Computing climatology...\n",
      "[2024-04-08 10:55:05] - Done.\n",
      "[2024-04-08 10:55:05] - Computing climatology...\n",
      "[2024-04-08 10:55:05] - Done.\n",
      "[2024-04-08 10:55:05] - Computing climatology...\n",
      "[2024-04-08 10:55:05] - Done.\n",
      "[2024-04-08 10:55:05] - Computing climatology...\n",
      "[2024-04-08 10:55:05] - Done.\n",
      "[2024-04-08 10:55:05] - Computing climatology...\n",
      "[2024-04-08 10:55:05] - Done.\n",
      "[2024-04-08 10:55:05] - Computing climatology...\n",
      "[2024-04-08 10:55:05] - Done.\n",
      "[2024-04-08 10:55:05] - Computing climatology...\n",
      "[2024-04-08 10:55:05] - Done.\n",
      "[2024-04-08 10:55:05] - Computing climatology...\n",
      "[2024-04-08 10:55:05] - Done.\n",
      "[2024-04-08 10:55:05] - Computing climatology...\n",
      "[2024-04-08 10:55:05] - Done.\n",
      "[2024-04-08 10:55:05] - Computing climatology...\n",
      "[2024-04-08 10:55:05] - Done.\n",
      "[2024-04-08 10:55:06] - Computing climatology...\n",
      "[2024-04-08 10:55:06] - Done.\n",
      "[2024-04-08 10:55:06] - Computing climatology...\n",
      "[2024-04-08 10:55:06] - Done.\n",
      "[2024-04-08 10:55:06] - Computing climatology...\n",
      "[2024-04-08 10:55:06] - Done.\n",
      "[2024-04-08 10:55:06] - Computing climatology...\n",
      "[2024-04-08 10:55:06] - Done.\n",
      "[2024-04-08 10:55:06] - Computing climatology...\n",
      "[2024-04-08 10:55:06] - Done.\n",
      "[2024-04-08 10:55:06] - Computing climatology...\n",
      "[2024-04-08 10:55:06] - Done.\n",
      "[2024-04-08 10:55:06] - Computing climatology...\n",
      "[2024-04-08 10:55:06] - Done.\n",
      "[2024-04-08 10:55:06] - Computing climatology...\n",
      "[2024-04-08 10:55:06] - Done.\n",
      "[2024-04-08 10:55:06] - Computing climatology...\n",
      "[2024-04-08 10:55:06] - Done.\n",
      "[2024-04-08 10:55:06] - Computing climatology...\n",
      "[2024-04-08 10:55:06] - Done.\n",
      "[2024-04-08 10:55:06] - Computing climatology...\n",
      "[2024-04-08 10:55:06] - Done.\n",
      "[2024-04-08 10:55:06] - Computing climatology...\n",
      "[2024-04-08 10:55:06] - Done.\n",
      "[2024-04-08 10:55:06] - Computing climatology...\n",
      "[2024-04-08 10:55:06] - Done.\n",
      "[2024-04-08 10:55:06] - Computing climatology...\n",
      "[2024-04-08 10:55:06] - Done.\n",
      "[2024-04-08 10:55:06] - Computing climatology...\n",
      "[2024-04-08 10:55:06] - Done.\n",
      "[2024-04-08 10:55:06] - Computing climatology...\n",
      "[2024-04-08 10:55:06] - Done.\n",
      "[2024-04-08 10:55:06] - Computing climatology...\n",
      "[2024-04-08 10:55:06] - Done.\n",
      "[2024-04-08 10:55:06] - Computing climatology...\n",
      "[2024-04-08 10:55:06] - Done.\n",
      "[2024-04-08 10:55:06] - Computing climatology...\n",
      "[2024-04-08 10:55:06] - Done.\n",
      "[2024-04-08 10:55:07] - Computing climatology...\n",
      "[2024-04-08 10:55:07] - Done.\n",
      "[2024-04-08 10:55:07] - Computing climatology...\n",
      "[2024-04-08 10:55:07] - Done.\n",
      "[2024-04-08 10:55:07] - Computing climatology...\n",
      "[2024-04-08 10:55:07] - Done.\n",
      "[2024-04-08 10:55:07] - Computing climatology...\n",
      "[2024-04-08 10:55:07] - Done.\n",
      "[2024-04-08 10:55:07] - Computing climatology...\n",
      "[2024-04-08 10:55:07] - Done.\n",
      "[2024-04-08 10:55:07] - Computing climatology...\n",
      "[2024-04-08 10:55:07] - Done.\n",
      "[2024-04-08 10:55:07] - Computing climatology...\n",
      "[2024-04-08 10:55:07] - Done.\n",
      "[2024-04-08 10:55:07] - Computing climatology...\n",
      "[2024-04-08 10:55:07] - Done.\n",
      "[2024-04-08 10:55:07] - Computing climatology...\n",
      "[2024-04-08 10:55:07] - Done.\n",
      "[2024-04-08 10:55:07] - Computing climatology...\n",
      "[2024-04-08 10:55:07] - Done.\n",
      "[2024-04-08 10:55:07] - Computing climatology...\n",
      "[2024-04-08 10:55:07] - Done.\n",
      "[2024-04-08 10:55:07] - Computing climatology...\n",
      "[2024-04-08 10:55:07] - Done.\n",
      "[2024-04-08 10:55:07] - Computing climatology...\n",
      "[2024-04-08 10:55:07] - Done.\n",
      "[2024-04-08 10:55:07] - Computing climatology...\n",
      "[2024-04-08 10:55:07] - Done.\n",
      "[2024-04-08 10:55:07] - Computing climatology...\n",
      "[2024-04-08 10:55:07] - Done.\n",
      "[2024-04-08 10:55:08] - Computing climatology...\n",
      "[2024-04-08 10:55:08] - Done.\n",
      "[2024-04-08 10:55:08] - Computing climatology...\n",
      "[2024-04-08 10:55:08] - Done.\n",
      "[2024-04-08 10:55:08] - Computing climatology...\n",
      "[2024-04-08 10:55:08] - Done.\n",
      "[2024-04-08 10:55:08] - Computing climatology...\n",
      "[2024-04-08 10:55:08] - Done.\n",
      "[2024-04-08 10:55:08] - Computing climatology...\n",
      "[2024-04-08 10:55:08] - Done.\n",
      "[2024-04-08 10:55:08] - Computing climatology...\n",
      "[2024-04-08 10:55:08] - Done.\n",
      "[2024-04-08 10:55:08] - Computing climatology...\n",
      "[2024-04-08 10:55:08] - Done.\n",
      "[2024-04-08 10:55:08] - Computing climatology...\n",
      "[2024-04-08 10:55:08] - Done.\n",
      "[2024-04-08 10:55:08] - Computing climatology...\n",
      "[2024-04-08 10:55:08] - Done.\n",
      "[2024-04-08 10:55:08] - Computing climatology...\n",
      "[2024-04-08 10:55:08] - Done.\n",
      "[2024-04-08 10:55:08] - Computing climatology...\n",
      "[2024-04-08 10:55:08] - Done.\n",
      "[2024-04-08 10:55:08] - Computing climatology...\n",
      "[2024-04-08 10:55:08] - Done.\n",
      "[2024-04-08 10:55:08] - Computing climatology...\n",
      "[2024-04-08 10:55:08] - Done.\n",
      "[2024-04-08 10:55:08] - Computing climatology...\n",
      "[2024-04-08 10:55:08] - Done.\n",
      "[2024-04-08 10:55:08] - Computing climatology...\n",
      "[2024-04-08 10:55:08] - Done.\n",
      "[2024-04-08 10:55:08] - Computing climatology...\n",
      "[2024-04-08 10:55:09] - Done.\n",
      "[2024-04-08 10:55:09] - Computing climatology...\n",
      "[2024-04-08 10:55:09] - Done.\n",
      "[2024-04-08 10:55:09] - Computing climatology...\n",
      "[2024-04-08 10:55:09] - Done.\n",
      "[2024-04-08 10:55:09] - Computing climatology...\n",
      "[2024-04-08 10:55:09] - Done.\n",
      "[2024-04-08 10:55:09] - Computing climatology...\n",
      "[2024-04-08 10:55:09] - Done.\n",
      "[2024-04-08 10:55:09] - Computing climatology...\n",
      "[2024-04-08 10:55:09] - Done.\n",
      "[2024-04-08 10:55:09] - Computing climatology...\n",
      "[2024-04-08 10:55:09] - Done.\n",
      "[2024-04-08 10:55:09] - Computing climatology...\n",
      "[2024-04-08 10:55:09] - Done.\n",
      "[2024-04-08 10:55:09] - Computing climatology...\n",
      "[2024-04-08 10:55:09] - Done.\n",
      "[2024-04-08 10:55:09] - Computing climatology...\n",
      "[2024-04-08 10:55:09] - Done.\n",
      "[2024-04-08 10:55:09] - Computing climatology...\n",
      "[2024-04-08 10:55:09] - Done.\n",
      "[2024-04-08 10:55:09] - Computing climatology...\n",
      "[2024-04-08 10:55:09] - Done.\n",
      "[2024-04-08 10:55:09] - Computing climatology...\n",
      "[2024-04-08 10:55:09] - Done.\n",
      "[2024-04-08 10:55:09] - Computing climatology...\n",
      "[2024-04-08 10:55:09] - Done.\n",
      "[2024-04-08 10:55:09] - Computing climatology...\n",
      "[2024-04-08 10:55:09] - Done.\n",
      "[2024-04-08 10:55:10] - Computing climatology...\n",
      "[2024-04-08 10:55:10] - Done.\n",
      "[2024-04-08 10:55:10] - Computing climatology...\n",
      "[2024-04-08 10:55:10] - Done.\n",
      "[2024-04-08 10:55:10] - Computing climatology...\n",
      "[2024-04-08 10:55:10] - Done.\n",
      "[2024-04-08 10:55:10] - Computing climatology...\n",
      "[2024-04-08 10:55:10] - Done.\n",
      "[2024-04-08 10:55:10] - Computing climatology...\n",
      "[2024-04-08 10:55:10] - Done.\n",
      "[2024-04-08 10:55:10] - Computing climatology...\n",
      "[2024-04-08 10:55:10] - Done.\n",
      "[2024-04-08 10:55:10] - Computing climatology...\n",
      "[2024-04-08 10:55:10] - Done.\n",
      "[2024-04-08 10:55:10] - Computing climatology...\n",
      "[2024-04-08 10:55:10] - Done.\n",
      "[2024-04-08 10:55:10] - Computing climatology...\n",
      "[2024-04-08 10:55:10] - Done.\n",
      "[2024-04-08 10:55:10] - Computing climatology...\n",
      "[2024-04-08 10:55:10] - Done.\n",
      "[2024-04-08 10:55:10] - Computing climatology...\n",
      "[2024-04-08 10:55:10] - Done.\n",
      "[2024-04-08 10:55:10] - Computing climatology...\n",
      "[2024-04-08 10:55:10] - Done.\n",
      "[2024-04-08 10:55:10] - Computing climatology...\n",
      "[2024-04-08 10:55:10] - Done.\n",
      "[2024-04-08 10:55:10] - Computing climatology...\n",
      "[2024-04-08 10:55:10] - Done.\n",
      "[2024-04-08 10:55:10] - Computing climatology...\n",
      "[2024-04-08 10:55:10] - Done.\n",
      "[2024-04-08 10:55:10] - Computing climatology...\n",
      "[2024-04-08 10:55:10] - Done.\n",
      "[2024-04-08 10:55:10] - Computing climatology...\n",
      "[2024-04-08 10:55:10] - Done.\n",
      "[2024-04-08 10:55:10] - Computing climatology...\n",
      "[2024-04-08 10:55:10] - Done.\n",
      "[2024-04-08 10:55:10] - Computing climatology...\n",
      "[2024-04-08 10:55:11] - Done.\n",
      "[2024-04-08 10:55:11] - Computing climatology...\n",
      "[2024-04-08 10:55:11] - Done.\n",
      "[2024-04-08 10:55:11] - Computing climatology...\n",
      "[2024-04-08 10:55:11] - Done.\n",
      "[2024-04-08 10:55:11] - Computing climatology...\n",
      "[2024-04-08 10:55:11] - Done.\n",
      "[2024-04-08 10:55:11] - Computing climatology...\n",
      "[2024-04-08 10:55:11] - Done.\n",
      "[2024-04-08 10:55:11] - Computing climatology...\n",
      "[2024-04-08 10:55:11] - Done.\n",
      "[2024-04-08 10:55:11] - Computing climatology...\n",
      "[2024-04-08 10:55:11] - Done.\n"
     ]
    }
   ],
   "source": [
    "sumCE <- sum_events(CE)"
   ]
  },
  {
   "cell_type": "markdown",
   "metadata": {},
   "source": [
    "## Group"
   ]
  },
  {
   "cell_type": "code",
   "execution_count": 18,
   "metadata": {
    "vscode": {
     "languageId": "r"
    }
   },
   "outputs": [],
   "source": [
    "# Función para realizar bindGrid de una estación específica para varios años\n",
    "bindGridEstaciones <- function(datos, estacion) {\n",
    "  # Extraemos los años disponibles en los datos\n",
    "  years <- names(datos)\n",
    "  \n",
    "  # Creamos una lista para almacenar los grids de cada año\n",
    "  lista_grids <- list()\n",
    "  \n",
    "  # Iteramos sobre los años\n",
    "  for (year in years) {\n",
    "    # Obtenemos el grid para la estación especificada\n",
    "    grid <- datos[[year]][[estacion]]\n",
    "    # Lo añadimos a la lista\n",
    "    lista_grids[[year]] <- grid\n",
    "  }\n",
    "  \n",
    "  # Realizamos el bindGrid con todos los grids de la lista\n",
    "  resultado <- bindGrid(lista_grids, dimension = \"time\", skip.temporal.check = TRUE)\n",
    "  return(resultado)\n",
    "}"
   ]
  },
  {
   "cell_type": "code",
   "execution_count": 19,
   "metadata": {
    "vscode": {
     "languageId": "r"
    }
   },
   "outputs": [
    {
     "name": "stderr",
     "output_type": "stream",
     "text": [
      "[2024-04-08 10:58:00] - Computing climatology...\n",
      "[2024-04-08 10:58:00] - Done.\n",
      "[2024-04-08 10:58:00] - Computing climatology...\n",
      "[2024-04-08 10:58:00] - Done.\n",
      "[2024-04-08 10:58:01] - Computing climatology...\n",
      "[2024-04-08 10:58:01] - Done.\n",
      "[2024-04-08 10:58:01] - Computing climatology...\n",
      "[2024-04-08 10:58:01] - Done.\n"
     ]
    }
   ],
   "source": [
    "# Crear un vector con los nombres de las estaciones\n",
    "estaciones <- c(\"Winter\", \"Spring\", \"Summer\", \"Autumn\")\n",
    "\n",
    "# Crear una lista para almacenar los resultados\n",
    "dataPeriod <- list()\n",
    "\n",
    "# Iterar sobre las estaciones\n",
    "for (estacion in estaciones) {\n",
    "  # Obtener los datos para la estación actual\n",
    "  datos_estacion <- bindGridEstaciones(sumCE, estacion = estacion)\n",
    "  datos_estacion <- climatology(datos_estacion, clim.fun = list(FUN = \"sum\", na.rm = TRUE))\n",
    "  datos_estacion <- gridArithmetics(datos_estacion, capa_tierra, operator = \"*\")\n",
    "  \n",
    "  # Almacenar los resultados en la lista\n",
    "  dataPeriod[[estacion]] <- datos_estacion\n",
    "}"
   ]
  },
  {
   "cell_type": "code",
   "execution_count": 20,
   "metadata": {
    "vscode": {
     "languageId": "r"
    }
   },
   "outputs": [
    {
     "data": {
      "image/png": "[encoded data removed]",
      "text/plain": [
       "plot without title"
      ]
     },
     "metadata": {},
     "output_type": "display_data"
    }
   ],
   "source": [
    "fullPeriod <- bindGrid(dataPeriod$Winter , dataPeriod$Spring, dataPeriod$Summer, dataPeriod$Autumn, dimension = \"member\", skip.temporal.check = TRUE)\n",
    "spatialPlot(fullPeriod, color.theme = \"RdBu\", rev.colors = TRUE, as.table = TRUE, names.attr = c(\"Winter\", \"Spring\", \"Summer\", \"Autumn\"), backdrop.theme = \"countries\", main = \"Sum Compound Event 1951-2022\")"
   ]
  },
  {
   "cell_type": "code",
   "execution_count": 25,
   "metadata": {
    "vscode": {
     "languageId": "r"
    }
   },
   "outputs": [
    {
     "data": {
      "image/png": "[encoded data removed]",
      "text/plain": [
       "plot without title"
      ]
     },
     "metadata": {},
     "output_type": "display_data"
    }
   ],
   "source": [
    "fullPeriod <- bindGrid(dataPeriod$Winter , dataPeriod$Spring, dataPeriod$Summer, dataPeriod$Autumn, dimension = \"member\", skip.temporal.check = TRUE)\n",
    "spatialPlot(fullPeriod, color.theme = \"RdBu\", rev.colors = TRUE, as.table = TRUE, names.attr = c(\"Winter\", \"Spring\", \"Summer\", \"Autumn\"), backdrop.theme = \"countries\", main = \"Sum Compound Event 1951-2022\")"
   ]
  },
  {
   "cell_type": "markdown",
   "metadata": {},
   "source": [
    "## Trend"
   ]
  },
  {
   "cell_type": "code",
   "execution_count": 21,
   "metadata": {
    "vscode": {
     "languageId": "r"
    }
   },
   "outputs": [],
   "source": [
    "winter <- bindGridEstaciones(sumCE, \"Winter\")\n",
    "spring <- bindGridEstaciones(sumCE, \"Spring\")\n",
    "summer <- bindGridEstaciones(sumCE, \"Summer\")\n",
    "autumn <- bindGridEstaciones(sumCE, \"Autumn\")"
   ]
  },
  {
   "cell_type": "code",
   "execution_count": 22,
   "metadata": {
    "vscode": {
     "languageId": "r"
    }
   },
   "outputs": [
    {
     "name": "stderr",
     "output_type": "stream",
     "text": [
      "[2024-04-08 10:59:07] Computing member 1 out of 1\n"
     ]
    },
    {
     "name": "stderr",
     "output_type": "stream",
     "text": [
      "[2024-04-08 10:59:25] Done.\n",
      "[2024-04-08 10:59:25] Computing member 1 out of 1\n",
      "[2024-04-08 10:59:46] Done.\n",
      "[2024-04-08 10:59:46] - Computing climatology...\n",
      "[2024-04-08 10:59:46] - Done.\n"
     ]
    },
    {
     "data": {
      "image/png": "[encoded data removed]",
      "text/plain": [
       "plot without title"
      ]
     },
     "metadata": {},
     "output_type": "display_data"
    }
   ],
   "source": [
    "trend.winter <- valueIndex(winter, index.code = \"Trend\", return.NApercentage = FALSE)# La pendiente\n",
    "sig.winter <- valueIndex(winter, index.code = \"TrendSig\", return.NApercentage = FALSE) # La significancia (1 o 0)\n",
    "# Si significancia es 0 entonces la pendiente no es significativa = NA\n",
    "clim.w = climatology(sig.winter)\n",
    "points.winter <- visualizeR::map.stippling(clim.w, thereshold = 0.05, condition = \"LT\", pch = 19, cex = 0.25, col = \"black\")\n",
    "# Representación\n",
    "spatialPlot(trend.winter, backdrop.theme = \"coastline\", color.theme = \"RdBu\", at = seq(-0.7, 0.7, by = 0.1), set.max = 0.7, set.min = -0.7, rev.colors = TRUE, main = \"Winter AEMET 1951-2022 / p 10_h tmax 90\", sp.layout = list(points.winter))"
   ]
  },
  {
   "cell_type": "code",
   "execution_count": 23,
   "metadata": {
    "vscode": {
     "languageId": "r"
    }
   },
   "outputs": [
    {
     "name": "stderr",
     "output_type": "stream",
     "text": [
      "[2024-04-08 10:59:47] Computing member 1 out of 1\n"
     ]
    },
    {
     "name": "stderr",
     "output_type": "stream",
     "text": [
      "[2024-04-08 11:00:07] Done.\n",
      "[2024-04-08 11:00:07] Computing member 1 out of 1\n",
      "[2024-04-08 11:00:24] Done.\n",
      "[2024-04-08 11:00:24] - Computing climatology...\n",
      "[2024-04-08 11:00:24] - Done.\n"
     ]
    },
    {
     "data": {
      "image/png": "[encoded data removed]",
      "text/plain": [
       "plot without title"
      ]
     },
     "metadata": {},
     "output_type": "display_data"
    }
   ],
   "source": [
    "trend.spring <- valueIndex(spring, index.code = \"Trend\", return.NApercentage = FALSE)# La pendiente\n",
    "sig.spring <- valueIndex(spring, index.code = \"TrendSig\", return.NApercentage = FALSE) # La significancia (1 o 0)\n",
    "# Si significancia es 0 entonces la pendiente no es significativa = NA\n",
    "clim.spring = climatology(sig.spring)\n",
    "points.spring <- visualizeR::map.stippling(clim.spring, thereshold = 0.05, condition = \"LT\", pch = 19, cex = 0.25, col = \"black\")\n",
    "# Representación\n",
    "spatialPlot(trend.spring, backdrop.theme = \"coastline\", color.theme = \"RdBu\", at = seq(-0.7, 0.7, by = 0.1), set.max = 0.7, set.min = -0.7, rev.colors = TRUE, main = \"Spring AEMET 1951-2022 / p 10_h tmax 90\", sp.layout = list(points.spring))"
   ]
  },
  {
   "cell_type": "code",
   "execution_count": 24,
   "metadata": {
    "vscode": {
     "languageId": "r"
    }
   },
   "outputs": [
    {
     "name": "stderr",
     "output_type": "stream",
     "text": [
      "[2024-04-08 11:00:25] Computing member 1 out of 1\n"
     ]
    },
    {
     "name": "stderr",
     "output_type": "stream",
     "text": [
      "[2024-04-08 11:00:42] Done.\n",
      "[2024-04-08 11:00:42] Computing member 1 out of 1\n",
      "[2024-04-08 11:01:00] Done.\n",
      "[2024-04-08 11:01:00] - Computing climatology...\n",
      "[2024-04-08 11:01:00] - Done.\n"
     ]
    },
    {
     "data": {
      "image/png": "[encoded data removed]",
      "text/plain": [
       "plot without title"
      ]
     },
     "metadata": {},
     "output_type": "display_data"
    }
   ],
   "source": [
    "trend.summer <- valueIndex(summer, index.code = \"Trend\", return.NApercentage = FALSE)# La pendiente\n",
    "sig.summer <- valueIndex(summer, index.code = \"TrendSig\", return.NApercentage = FALSE) # La significancia (1 o 0)\n",
    "# Si significancia es 0 entonces la pendiente no es significativa = NA\n",
    "clim.summer = climatology(sig.summer)\n",
    "points.summer <- visualizeR::map.stippling(clim.summer, thereshold = 0.05, condition = \"LT\", pch = 19, cex = 0.25, col = \"black\")\n",
    "# Representación\n",
    "spatialPlot(trend.summer, backdrop.theme = \"coastline\", color.theme = \"RdBu\", at = seq(-0.7, 0.7, by = 0.1), set.max = 0.7, set.min = -0.7, rev.colors = TRUE, main = \"Summer AEMET 1951-2022 / p 10_h tmax 90\", sp.layout = list(points.summer))"
   ]
  },
  {
   "cell_type": "code",
   "execution_count": 25,
   "metadata": {
    "vscode": {
     "languageId": "r"
    }
   },
   "outputs": [
    {
     "name": "stderr",
     "output_type": "stream",
     "text": [
      "[2024-04-08 11:01:01] Computing member 1 out of 1\n"
     ]
    },
    {
     "name": "stderr",
     "output_type": "stream",
     "text": [
      "[2024-04-08 11:01:17] Done.\n",
      "[2024-04-08 11:01:17] Computing member 1 out of 1\n",
      "[2024-04-08 11:01:34] Done.\n",
      "[2024-04-08 11:01:34] - Computing climatology...\n",
      "[2024-04-08 11:01:34] - Done.\n"
     ]
    },
    {
     "data": {
      "image/png": "[encoded data removed]",
      "text/plain": [
       "plot without title"
      ]
     },
     "metadata": {},
     "output_type": "display_data"
    }
   ],
   "source": [
    "trend.autumn <- valueIndex(autumn, index.code = \"Trend\", return.NApercentage = FALSE)# La pendiente\n",
    "sig.autumn <- valueIndex(autumn, index.code = \"TrendSig\", return.NApercentage = FALSE) # La significancia (1 o 0)\n",
    "# Si significancia es 0 entonces la pendiente no es significativa = NA\n",
    "clim.autumn = climatology(sig.autumn)\n",
    "points.autumn <- visualizeR::map.stippling(clim.autumn, thereshold = 0.05, condition = \"LT\", pch = 19, cex = 0.25, col = \"black\")\n",
    "# Representación\n",
    "spatialPlot(trend.autumn, backdrop.theme = \"coastline\", color.theme = \"RdBu\", at = seq(-0.7, 0.7, by = 0.1), set.max = 0.7, set.min = -0.7, rev.colors = TRUE, main = \"Autumn AEMET 1951-2022 / p 10_h tmax 90\", sp.layout = list(points.autumn))"
   ]
  },
  {
   "cell_type": "code",
   "execution_count": 26,
   "metadata": {
    "vscode": {
     "languageId": "r"
    }
   },
   "outputs": [
    {
     "data": {
      "image/png": "[encoded data removed]",
      "text/plain": [
       "plot without title"
      ]
     },
     "metadata": {},
     "output_type": "display_data"
    }
   ],
   "source": [
    "trends <- bindGrid(trend.winter, trend.spring, trend.summer, trend.autumn, dimension = \"member\", skip.temporal.check = TRUE)\n",
    "# points <- bindGrid(points.winter, points.spring, points.summer, points.autumn, dimension = \"member\", skip.temporal.check = TRUE)\n",
    "spatialPlot(trends, backdrop.theme = \"coastline\", names.attr = c(\"Winter\", \"Spring\", \"Summer\", \"Autumn\"), main = \"Trend 1984 - 2005\", as.table = TRUE, color.theme = \"RdBu\", at = seq(-0.7, 0.7, by = 0.1), set.max = 0.7, set.min = -0.7, rev.colors = TRUE)"
   ]
  }
 ],
 "metadata": {
  "kernelspec": {
   "display_name": "R",
   "language": "R",
   "name": "ir"
  },
  "language_info": {
   "codemirror_mode": "r",
   "file_extension": ".r",
   "mimetype": "text/x-r-source",
   "name": "R",
   "pygments_lexer": "r",
   "version": "3.6.1"
  }
 },
 "nbformat": 4,
 "nbformat_minor": 2
}
