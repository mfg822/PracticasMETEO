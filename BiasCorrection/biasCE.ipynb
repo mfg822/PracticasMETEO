{
 "cells": [
  {
   "cell_type": "code",
   "execution_count": 5,
   "metadata": {
    "vscode": {
     "languageId": "r"
    }
   },
   "outputs": [
    {
     "name": "stderr",
     "output_type": "stream",
     "text": [
      "Warning message:\n",
      "\"package 'loadeR' was built under R version 3.6.3\"Loading required package: rJava\n",
      "Warning message:\n",
      "\"package 'rJava' was built under R version 3.6.3\"Loading required package: loadeR.java\n",
      "Warning message:\n",
      "\"package 'loadeR.java' was built under R version 3.6.3\"Java version 21x amd64 by Azul Systems, Inc. detected\n",
      "NetCDF Java Library v4.6.0-SNAPSHOT (23 Apr 2015) loaded and ready\n",
      "Loading required package: climate4R.UDG\n",
      "Warning message:\n",
      "\"package 'climate4R.UDG' was built under R version 3.6.3\"climate4R.UDG version 0.2.6 (2023-06-26) is loaded\n",
      "Please use 'citation(\"climate4R.UDG\")' to cite this package.\n",
      "loadeR version 1.8.1 (2023-06-22) is loaded\n",
      "Please use 'citation(\"loadeR\")' to cite this package.\n",
      "Warning message:\n",
      "\"package 'transformeR' was built under R version 3.6.3\""
     ]
    },
    {
     "name": "stdout",
     "output_type": "stream",
     "text": [
      "\n",
      "    _______   ____  ___________________  __  ________ \n",
      "   / ___/ /  / /  |/  / __  /_  __/ __/ / / / / __  / \n",
      "  / /  / /  / / /|_/ / /_/ / / / / __/ / /_/ / /_/_/  \n",
      " / /__/ /__/ / /  / / __  / / / / /__ /___  / / \\ \\ \n",
      " \\___/____/_/_/  /_/_/ /_/ /_/  \\___/    /_/\\/   \\_\\ \n",
      " \n",
      "      github.com/SantanderMetGroup/climate4R\n",
      "\n"
     ]
    },
    {
     "name": "stderr",
     "output_type": "stream",
     "text": [
      "transformeR version 2.2.2 (2023-10-26) is loaded\n",
      "Please see 'citation(\"transformeR\")' to cite this package.\n",
      "Warning message:\n",
      "\"package 'visualizeR' was built under R version 3.6.3\"visualizeR version 1.6.4 (2023-10-26) is loaded\n",
      "Please see 'citation(\"visualizeR\")' to cite this package.\n",
      "Warning message:\n",
      "\"package 'dplyr' was built under R version 3.6.3\"\n",
      "Attaching package: 'dplyr'\n",
      "\n",
      "The following objects are masked from 'package:stats':\n",
      "\n",
      "    filter, lag\n",
      "\n",
      "The following objects are masked from 'package:base':\n",
      "\n",
      "    intersect, setdiff, setequal, union\n",
      "\n",
      "Warning message:\n",
      "\"package 'climate4R.value' was built under R version 3.6.3\"Loading required package: VALUE\n",
      "Warning message:\n",
      "\"package 'VALUE' was built under R version 3.6.3\"---------------------------------------------- \n",
      "| VALUE version 2.2.4 (2023-06-22) is loaded |\n",
      "|         http://www.value-cost.eu           |\n",
      "----------------------------------------------\n",
      "Warning message:\n",
      "\"package 'downscaleR' was built under R version 3.6.3\"downscaleR version 3.3.4 (2023-06-22) is loaded\n",
      "Please use 'citation(\"downscaleR\")' to cite this package.\n",
      "Warning message:\n",
      "\"package 'climate4R.indices' was built under R version 3.6.3\"climate4R.indices version 0.3.1 (2023-06-22) is loaded\n",
      "Use 'indexShow()' for an overview of the available climate indices and circIndexShow() for the circulation indices.\n",
      "NOTE: use package climate4R.climdex to calculate ETCCDI indices.\n",
      "\n",
      "Attaching package: 'climate4R.indices'\n",
      "\n",
      "The following object is masked from 'package:transformeR':\n",
      "\n",
      "    lambWT\n",
      "\n"
     ]
    }
   ],
   "source": [
    "options(java.parameters = \"-Xmx50g\") \n",
    "library(loadeR)\n",
    "library(transformeR)\n",
    "library(visualizeR)\n",
    "library(climate4R.UDG)\n",
    "library(dplyr)\n",
    "library(climate4R.value)\n",
    "library(VALUE)\n",
    "library(downscaleR) # para bias correction (función biasCorrection)\n",
    "library(climate4R.indices) # para calcular índices\n",
    "\n",
    "# Inventario con lista de datasets disponibles\n",
    "df <- read.csv(\"https://data.meteo.unican.es/inventory.csv\")\n",
    "# df <- read.csv(\"../Data_AEMET/inventory.csv\")"
   ]
  },
  {
   "cell_type": "code",
   "execution_count": 27,
   "metadata": {
    "vscode": {
     "languageId": "r"
    }
   },
   "outputs": [],
   "source": [
    "#############################\n",
    "# *** Leer observaciones ****\n",
    "#############################\n",
    "obs.data <- readRDS(\"obs.pr.rds\")\n"
   ]
  },
  {
   "cell_type": "code",
   "execution_count": 28,
   "metadata": {
    "vscode": {
     "languageId": "r"
    }
   },
   "outputs": [
    {
     "name": "stderr",
     "output_type": "stream",
     "text": [
      "[2024-04-26 11:39:34] Opening dataset...\n",
      "[2024-04-26 11:39:37] The dataset was successfuly opened\n",
      "[2024-04-26 11:39:37] Defining geo-location parameters\n",
      "[2024-04-26 11:39:39] Defining time selection parameters\n",
      "[2024-04-26 11:39:39] Retrieving data subset ...\n",
      "[2024-04-26 11:43:37] Done\n",
      "model units K\n"
     ]
    },
    {
     "ename": "ERROR",
     "evalue": "Error: no se puede ubicar un vector de tamaño  758.4 Mb\n",
     "output_type": "error",
     "traceback": [
      "Error: no se puede ubicar un vector de tamaño  758.4 Mb\nTraceback:\n",
      "1. gridArithmetics(hist.data, 273.15, operator = \"-\")",
      "2. redim(field.list[[indgrid[i]]], runtime = TRUE, var = TRUE, loc = loc)",
      "3. unname(abind(grid$Data, NULL, along = 0))",
      "4. abind(grid$Data, NULL, along = 0)",
      "5. array(unlist(arg.list, use.names = FALSE), dim = c(arg.dim[-along, \n .     1], sum(arg.dim[along, ])), dimnames = dimnames.new[perm])"
     ]
    }
   ],
   "source": [
    "#########################\n",
    "# *** Leer un modelo ****\n",
    "#########################\n",
    "rcm.hist.subset <- subset(df, activity == 'CORDEX' & domain=='EUR-11' & experiment == 'historical' & variable=='pr' & rcm =='RACMO22E' & model == 'ICHEC-EC-EARTH' & ensemble == 'r1i1p1') \n",
    "rcm.hist.loc <- as.character(rcm.hist.subset $location)\n",
    "hist.data <- loadGridData(rcm.hist.loc, var=\"pr\", years= 1986:2005,lonLim =c(-10, 5), latLim = c(35,44))\n",
    "# Comprobar las unidades de los datos\n",
    "message(\"model units \",getGridUnits(hist.data)) # degC para temperaturas, mm ó kg*m-2 para precipitación\n",
    "# Pasar a grados Celsius\n",
    "hist.data <- gridArithmetics(hist.data, 273.15, operator=\"-\")\n",
    "hist.data <- gridArithmetics(hist.data, 86400, operator=\"*\")"
   ]
  },
  {
   "cell_type": "code",
   "execution_count": null,
   "metadata": {
    "vscode": {
     "languageId": "r"
    }
   },
   "outputs": [],
   "source": [
    "##############################################\n",
    "# *** Aplicar máscara de tierra al modelo ****\n",
    "##############################################\n",
    "rcm.mask <- subset(df, activity == 'CORDEX' & domain=='EUR-11' & experiment == 'historical' & variable=='sftlf' & rcm =='RACMO22E' & model == 'ICHEC-EC-EARTH' & ensemble == 'r1i1p1') \n",
    "rcm.mask.loc <- as.character(rcm.mask$location)\n",
    "rcm.mask <- loadGridData(rcm.mask.loc, var=\"sftlf\", lonLim =c(-10, 5), latLim = c(35,44))\n",
    "# En este modelo, valores entre 0 y 100 de land area fraction, establecemos un umbral para decir qué es tierra y qué es mar\n",
    "\n",
    "rcm.mask$Data[rcm.mask$Data < 40] <- NA\n",
    "rcm.mask$Data[rcm.mask$Data >= 40] <- 1 # OJO! puede que en el algún modelo venga en tanto por 1 en lugar de %. Adaptar.\n",
    "\n",
    "# Multiplicamos los datos del modelo por su máscara tierra-mar. Pondrá NA en los puntos de mar.\n",
    "# Se hace una multiplicación día a día de los datos del modelo por la máscara.\n",
    "time <- getRefDates(hist.data)\n",
    "nt <- length(time)\n",
    "ls <-lapply(1:nt, function(i){\n",
    "  timei <-subsetDimension(hist.data, dimension = \"time\", indices=i) # separa día a día \n",
    "  gridArithmetics(timei, rcm.mask, operator = \"*\") # multiplica los dos grids\n",
    "}\n",
    ")\n",
    "rcm.hist.masked <- bindGrid(ls, dimension = \"time\") # bindGrid es una función de transforeR que vuelve a unir todos los días en un grid de climate4R\n",
    "rm(hist.data, ls, rcm.mask)"
   ]
  },
  {
   "cell_type": "code",
   "execution_count": null,
   "metadata": {
    "vscode": {
     "languageId": "r"
    }
   },
   "outputs": [],
   "source": [
    "############################################################\n",
    "# *** Interpolar el modelo a la malla de la observación ****\n",
    "############################################################\n",
    "# Este paso lo hace automáticamente biasCorrection, pero lo hago aquí para representar el modelo en la misma malla que la observación y calcular el sesgo (bias)\n",
    "rcm.hist.interp <- interpGrid(rcm.hist.masked, new.coordinates = getGrid(obs.data))"
   ]
  },
  {
   "cell_type": "code",
   "execution_count": null,
   "metadata": {
    "vscode": {
     "languageId": "r"
    }
   },
   "outputs": [],
   "source": [
    "png(\"interpolacion_pr_EUR-11.png\")\n",
    "spatialPlot(makeMultiGrid(climatology(obs.data),climatology(rcm.hist.interp)) , backdrop.theme = \"coastline\", \n",
    "            rev.colors = TRUE,  at= seq(0,25), main= \"Precipitación en Iberia\", as.table=TRUE, \n",
    "            names.attr=c(\"OBS\", \"RCM interpolado\"), layout=c(2,1)) # pinta ambos en las latitudes que tocan\n",
    "dev.off()"
   ]
  },
  {
   "cell_type": "code",
   "execution_count": null,
   "metadata": {
    "vscode": {
     "languageId": "r"
    }
   },
   "outputs": [],
   "source": [
    "##########################\n",
    "# *** Bias correction ****\n",
    "##########################\n",
    "bc.scaling <- biasCorrection(y=obs.data, x=rcm.hist.interp, newdata= rcm.hist.interp, precipitation = FALSE, \n",
    "                             method=\"scaling\", scaling.type=\"additive\" ) # correción solo de la media (aditiva para temperatura)\n",
    "bc.eqm <- biasCorrection(y=obs.data, x=rcm.hist.interp, newdata= rcm.hist.interp, precipitation = FALSE, \n",
    "                         method=\"eqm\", extrapolation = \"constant\", n.quantiles=99 )  # corrección de 99 percentiles"
   ]
  },
  {
   "cell_type": "code",
   "execution_count": null,
   "metadata": {
    "vscode": {
     "languageId": "r"
    }
   },
   "outputs": [],
   "source": [
    "# Calcular el sesgo de los datos sin corregir (raw) y de las dos correcciones en la media\n",
    "bias.raw.mean <- gridArithmetics(climatology(rcm.hist.interp), climatology(obs.data), operator=\"-\")\n",
    "bias.scaling.mean <- gridArithmetics(climatology(bc.scaling), climatology(obs.data), operator=\"-\")\n",
    "bias.eqm.mean <- gridArithmetics(climatology(bc.eqm), climatology(obs.data), operator=\"-\")"
   ]
  },
  {
   "cell_type": "code",
   "execution_count": null,
   "metadata": {
    "vscode": {
     "languageId": "r"
    }
   },
   "outputs": [],
   "source": [
    "###########################\n",
    "### Sesgo RCM Historico ###\n",
    "###########################\n",
    "png(\"sesgo_pr_EUR-11.png\", width = 1300, height = 800)\n",
    "spatialPlot(makeMultiGrid(bias.raw.mean, bias.scaling.mean, bias.eqm.mean), backdrop.theme = \"coastline\", \n",
    "            rev.colors = TRUE,  at= seq(-6,6), main= \"Sesgo en la Precipitación (promedio)\", layout=c(3,1),\n",
    "            as.table=TRUE, names.attr=c(\"RAW\", \"BC (scaling)\", \"BC (eqm)\"))\n",
    "dev.off()"
   ]
  },
  {
   "cell_type": "code",
   "execution_count": null,
   "metadata": {
    "vscode": {
     "languageId": "r"
    }
   },
   "outputs": [],
   "source": [
    "###################\n",
    "### Save Sesgos ###\n",
    "###################\n",
    "saveRDS(bias.raw.mean, \"sesgo_pr_EUR-11_raw.rds\", compress = \"xz\")\n",
    "saveRDS(bias.scaling.mean, \"sesgo_pr_EUR-11_scaling.rds\", compress = \"xz\")\n",
    "saveRDS(bias.eqm.mean, \"sesgo_pr_EUR-11_eqm.rds\", compress = \"xz\")"
   ]
  },
  {
   "cell_type": "code",
   "execution_count": null,
   "metadata": {
    "vscode": {
     "languageId": "r"
    }
   },
   "outputs": [],
   "source": [
    "###############################################\n",
    "# *** Bias correction del escenario futuro ****\n",
    "###############################################\n",
    "# TAREA: Hacer lo mismo, pero esta vez aplicar la correción a las simulaciones de futuro (argumento newdata)\n",
    "rcm.rcp85.subset <- subset(df, activity == 'CORDEX' & domain=='EUR-11' & experiment == 'rcp85' & variable=='pr' & rcm =='RACMO22E' & model == 'ICHEC-EC-EARTH' & ensemble == 'r1i1p1') \n",
    "rcm.rcp85.loc <- as.character(rcm.rcp85.subset $location)\n",
    "rcp85.data <- loadGridData(rcm.rcp85.loc, var=\"pr\", years= 2041:2070,lonLim =c(-10, 5), latLim = c(35,44))\n",
    "# Comprobar las unidades de los datos\n",
    "message(\"model units \",getGridUnits(rcp85.data)) # degC para temperaturas, mm ó kg*m-2 para precipitación\n",
    "# Pasar a grados Celsius\n",
    "rcp85.data <- gridArithmetics(rcp85.data, 86400, operator=\"*\")"
   ]
  },
  {
   "cell_type": "code",
   "execution_count": null,
   "metadata": {
    "vscode": {
     "languageId": "r"
    }
   },
   "outputs": [],
   "source": [
    "##############################################\n",
    "# *** Aplicar máscara de tierra al modelo ****\n",
    "##############################################\n",
    "rcm.mask <- subset(df, activity == 'CORDEX' & domain=='EUR-11' & experiment == 'historical' & variable=='sftlf' & rcm =='RACMO22E' & model == 'ICHEC-EC-EARTH' & ensemble == 'r1i1p1') \n",
    "rcm.mask.loc <- as.character(rcm.mask$location)\n",
    "rcm.mask <- loadGridData(rcm.mask.loc, var=\"sftlf\", lonLim =c(-10, 5), latLim = c(35,44))\n",
    "# En este modelo, valores entre 0 y 100 de land area fraction, establecemos un umbral para decir qué es tierra y qué es mar\n",
    "\n",
    "rcm.mask$Data[rcm.mask$Data < 40] <- NA\n",
    "rcm.mask$Data[rcm.mask$Data >= 40] <- 1 # OJO! puede que en el algún modelo venga en tanto por 1 en lugar de %. Adaptar.\n",
    "\n",
    "# Multiplicamos los datos del modelo por su máscara tierra-mar. Pondrá NA en los puntos de mar.\n",
    "# Se hace una multiplicación día a día de los datos del modelo por la máscara.\n",
    "time <- getRefDates(rcp85.data)\n",
    "nt <- length(time)\n",
    "ls <-lapply(1:nt, function(i){\n",
    "  timei <-subsetDimension(rcp85.data, dimension = \"time\", indices=i) # separa día a día \n",
    "  gridArithmetics(timei, rcm.mask, operator = \"*\") # multiplica los dos grids\n",
    "}\n",
    ")\n",
    "rcp85.masked <- bindGrid(ls, dimension = \"time\") # bindGrid es una función de transforeR que vuelve a unir todos los días en un grid de climate4R\n",
    "rm(rcp85.data, ls, rcm.mask)"
   ]
  },
  {
   "cell_type": "code",
   "execution_count": null,
   "metadata": {
    "vscode": {
     "languageId": "r"
    }
   },
   "outputs": [],
   "source": [
    "############################################################\n",
    "# *** Interpolar el modelo a la malla de la observación ****\n",
    "############################################################\n",
    "# Este paso lo hace automáticamente biasCorrection, pero lo hago aquí para representar el modelo en la misma malla que la observación y calcular el sesgo (bias)\n",
    "rcp85.interp <- interpGrid(rcp85.masked, new.coordinates = getGrid(obs.data))"
   ]
  },
  {
   "cell_type": "code",
   "execution_count": null,
   "metadata": {
    "vscode": {
     "languageId": "r"
    }
   },
   "outputs": [],
   "source": [
    "png(\"interpolacion_pr_EUR-11_rcp85_4170.png\", width = 1500, height = 700)\n",
    "spatialPlot(makeMultiGrid(climatology(obs.data),climatology(rcp85.interp), skip.temporal.check = TRUE) , backdrop.theme = \"coastline\", \n",
    "            rev.colors = TRUE,  at= seq(0,25), main= \"Precip en Iberia\", as.table=TRUE, \n",
    "            names.attr=c(\"OBS\", \"RCM interpolado\"), layout=c(2,1)) # pinta ambos en las latitudes que tocan\n",
    "dev.off()"
   ]
  },
  {
   "cell_type": "code",
   "execution_count": null,
   "metadata": {
    "vscode": {
     "languageId": "r"
    }
   },
   "outputs": [],
   "source": [
    "saveRDS(rcp85.interp, \"rcp85_interpolado_pr_EUR-11_41_70_bueno.rds\", compress = \"xz\")"
   ]
  },
  {
   "cell_type": "code",
   "execution_count": 14,
   "metadata": {
    "vscode": {
     "languageId": "r"
    }
   },
   "outputs": [],
   "source": [
    "sesgo.scaling <- readRDS(\"EUR-11/sesgo_pr_EUR-11_scaling.rds\")\n",
    "sesgo.eqm <- readRDS(\"EUR-11/sesgo_pr_EUR-11_eqm.rds\")"
   ]
  },
  {
   "cell_type": "code",
   "execution_count": 9,
   "metadata": {
    "vscode": {
     "languageId": "r"
    }
   },
   "outputs": [],
   "source": [
    "futuro <- readRDS(\"EUR-11/rcp85_interpolado_pr_EUR-11_71_100.rds\")"
   ]
  },
  {
   "cell_type": "code",
   "execution_count": 17,
   "metadata": {
    "vscode": {
     "languageId": "r"
    }
   },
   "outputs": [],
   "source": [
    "futuro_scaling <- futuro\n",
    "futuro_eqm <- futuro\n",
    "for (i in dim(futuro)[1]){\n",
    "    futuro_scaling$Data[i,,] <- gridArithmetics(futuro$Data[i,,], sesgo.scaling$Data, operator = \"+\")\n",
    "}"
   ]
  },
  {
   "cell_type": "code",
   "execution_count": 19,
   "metadata": {
    "vscode": {
     "languageId": "r"
    }
   },
   "outputs": [
    {
     "ename": "ERROR",
     "evalue": "Error: $ operator is invalid for atomic vectors\n",
     "output_type": "error",
     "traceback": [
      "Error: $ operator is invalid for atomic vectors\nTraceback:\n",
      "1. gridArithmetics(futuro_scaling$Data[i, j, k], sesgo.scaling$Data[1, \n .     j, k], operator = \"+\")",
      "2. isRegular(field.list[[1]])",
      "3. sort(gr$x)"
     ]
    }
   ],
   "source": [
    "futuro_scaling <- futuro\n",
    "dimension <- dim(futuro$Data)\n",
    "for (i in 1:dimension[1]){\n",
    "    for (j in 1:dimension[2]){\n",
    "        for (k in 1:dimension[3]){\n",
    "            futuro_scaling$Data[i,j,k] <- gridArithmetics(futuro_scaling$Data[i,j,k], sesgo.scaling$Data[1,j,k], operator = \"+\")\n",
    "        }\n",
    "    }\n",
    "}"
   ]
  }
 ],
 "metadata": {
  "kernelspec": {
   "display_name": "R",
   "language": "R",
   "name": "ir"
  },
  "language_info": {
   "codemirror_mode": "r",
   "file_extension": ".r",
   "mimetype": "text/x-r-source",
   "name": "R",
   "pygments_lexer": "r",
   "version": "3.6.1"
  }
 },
 "nbformat": 4,
 "nbformat_minor": 2
}
