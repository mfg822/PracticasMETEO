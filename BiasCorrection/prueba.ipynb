{
 "cells": [
  {
   "cell_type": "code",
   "execution_count": 1,
   "metadata": {
    "vscode": {
     "languageId": "r"
    }
   },
   "outputs": [
    {
     "name": "stderr",
     "output_type": "stream",
     "text": [
      "Warning message:\n",
      "\"package 'loadeR' was built under R version 3.6.3\""
     ]
    },
    {
     "name": "stderr",
     "output_type": "stream",
     "text": [
      "Loading required package: rJava\n",
      "Warning message:\n",
      "\"package 'rJava' was built under R version 3.6.3\"Loading required package: loadeR.java\n",
      "Warning message:\n",
      "\"package 'loadeR.java' was built under R version 3.6.3\"Java version 21x amd64 by Azul Systems, Inc. detected\n",
      "NetCDF Java Library v4.6.0-SNAPSHOT (23 Apr 2015) loaded and ready\n",
      "Loading required package: climate4R.UDG\n",
      "Warning message:\n",
      "\"package 'climate4R.UDG' was built under R version 3.6.3\"climate4R.UDG version 0.2.6 (2023-06-26) is loaded\n",
      "Please use 'citation(\"climate4R.UDG\")' to cite this package.\n",
      "loadeR version 1.8.1 (2023-06-22) is loaded\n",
      "Please use 'citation(\"loadeR\")' to cite this package.\n",
      "Warning message:\n",
      "\"package 'visualizeR' was built under R version 3.6.3\"Loading required package: transformeR\n",
      "Warning message:\n",
      "\"package 'transformeR' was built under R version 3.6.3\""
     ]
    },
    {
     "name": "stdout",
     "output_type": "stream",
     "text": [
      "\n",
      "    _______   ____  ___________________  __  ________ \n",
      "   / ___/ /  / /  |/  / __  /_  __/ __/ / / / / __  / \n",
      "  / /  / /  / / /|_/ / /_/ / / / / __/ / /_/ / /_/_/  \n",
      " / /__/ /__/ / /  / / __  / / / / /__ /___  / / \\ \\ \n",
      " \\___/____/_/_/  /_/_/ /_/ /_/  \\___/    /_/\\/   \\_\\ \n",
      " \n",
      "      github.com/SantanderMetGroup/climate4R\n",
      "\n"
     ]
    },
    {
     "name": "stderr",
     "output_type": "stream",
     "text": [
      "transformeR version 2.2.2 (2023-10-26) is loaded\n",
      "Please see 'citation(\"transformeR\")' to cite this package.\n",
      "visualizeR version 1.6.4 (2023-10-26) is loaded\n",
      "Please see 'citation(\"visualizeR\")' to cite this package.\n",
      "Warning message:\n",
      "\"package 'downscaleR' was built under R version 3.6.3\"downscaleR version 3.3.4 (2023-06-22) is loaded\n",
      "Please use 'citation(\"downscaleR\")' to cite this package.\n",
      "Warning message:\n",
      "\"package 'climate4R.indices' was built under R version 3.6.3\"climate4R.indices version 0.3.1 (2023-06-22) is loaded\n",
      "Use 'indexShow()' for an overview of the available climate indices and circIndexShow() for the circulation indices.\n",
      "NOTE: use package climate4R.climdex to calculate ETCCDI indices.\n",
      "\n",
      "Attaching package: 'climate4R.indices'\n",
      "\n",
      "The following object is masked from 'package:transformeR':\n",
      "\n",
      "    lambWT\n",
      "\n"
     ]
    }
   ],
   "source": [
    "# Programa de ejemplo de lectura de datos y aplicación de bias correction para un seminario introductorio a BC\n",
    "# Ana Casanueva, 20.03.24\n",
    "rm(list=ls())\n",
    "graphics.off()\n",
    "library(loadeR) # para leer datos (función loadGridData)\n",
    "library(visualizeR) # para generar figuras (función spatialPlot)\n",
    "library(downscaleR) # para bias correction (función biasCorrection)\n",
    "library(transformeR) # para transformaciones, p.ej. subset (subsetDimension, subsetGrid), interpolar (interpGrid), etc.\n",
    "library(climate4R.indices) # para calcular índices"
   ]
  },
  {
   "cell_type": "code",
   "execution_count": null,
   "metadata": {
    "vscode": {
     "languageId": "r"
    }
   },
   "outputs": [],
   "source": [
    "conda create -n climate4R -c conda-forge r-climate4R\n",
    "# version 4.3.1"
   ]
  },
  {
   "cell_type": "code",
   "execution_count": 2,
   "metadata": {
    "vscode": {
     "languageId": "r"
    }
   },
   "outputs": [
    {
     "name": "stderr",
     "output_type": "stream",
     "text": [
      "[2024-04-08 10:30:41] Doing inventory ...\n",
      "[2024-04-08 10:30:41] Opening dataset...\n",
      "[2024-04-08 10:30:46] The dataset was successfuly opened\n",
      "[2024-04-08 10:30:48] Retrieving info for 'pr' (2 vars remaining)\n",
      "[2024-04-08 10:30:48] Retrieving info for 'tasmax' (1 vars remaining)\n",
      "[2024-04-08 10:30:48] Retrieving info for 'tasmin' (0 vars remaining)\n",
      "[2024-04-08 10:30:49] Done.\n"
     ]
    }
   ],
   "source": [
    "# Leer el archivo CSV\n",
    "df <- read.csv(\"../inventory.csv\")\n",
    "\n",
    "# Filtrar los enlaces que necesitas\n",
    "sub <- subset(df, product == 'AEMET-5KM-regular')\n",
    "obs.url <- as.character(sub$location)\n",
    "\n",
    "# Ejecutar dataInventory con los enlaces filtrados\n",
    "di <- dataInventory(obs.url)"
   ]
  },
  {
   "cell_type": "code",
   "execution_count": 3,
   "metadata": {
    "vscode": {
     "languageId": "r"
    }
   },
   "outputs": [],
   "source": [
    "pr1  <- readRDS(\"../aemet/pr51_61.rds\")\n",
    "pr2 <- readRDS(\"../aemet/pr62_72.rds\")\n",
    "tmax1 <- readRDS(\"../aemet/tmax51_61.rds\")\n",
    "tmax2 <- readRDS(\"../aemet/tmax62_72.rds\")"
   ]
  },
  {
   "cell_type": "code",
   "execution_count": 4,
   "metadata": {
    "vscode": {
     "languageId": "r"
    }
   },
   "outputs": [],
   "source": [
    "pr <- bindGrid(pr1, pr2, dimension=\"time\")\n",
    "tmax <- bindGrid(tmax1, tmax2, dimension=\"time\")"
   ]
  },
  {
   "cell_type": "code",
   "execution_count": 6,
   "metadata": {
    "vscode": {
     "languageId": "r"
    }
   },
   "outputs": [
    {
     "name": "stderr",
     "output_type": "stream",
     "text": [
      "[2024-04-08 10:41:46] - Computing climatology...\n",
      "[2024-04-08 10:41:57] - Done.\n"
     ]
    },
    {
     "data": {
      "image/png": "[encoded data removed]",
      "text/plain": [
       "plot without title"
      ]
     },
     "metadata": {},
     "output_type": "display_data"
    }
   ],
   "source": [
    "spatialPlot(climatology(tmax))"
   ]
  },
  {
   "cell_type": "code",
   "execution_count": 8,
   "metadata": {
    "vscode": {
     "languageId": "r"
    }
   },
   "outputs": [
    {
     "name": "stderr",
     "output_type": "stream",
     "text": [
      "[2024-04-08 10:44:23] - Computing climatology...\n",
      "[2024-04-08 10:44:30] - Done.\n"
     ]
    },
    {
     "data": {
      "image/png": "[encoded data removed]",
      "text/plain": [
       "plot without title"
      ]
     },
     "metadata": {},
     "output_type": "display_data"
    }
   ],
   "source": [
    "spatialPlot(climatology(tmax), backdrop.theme = \"coastline\", rev.colors = TRUE, at= seq(0,25), \n",
    "            main= \"Temperatura maxima observada\")\n"
   ]
  },
  {
   "cell_type": "code",
   "execution_count": 9,
   "metadata": {
    "vscode": {
     "languageId": "r"
    }
   },
   "outputs": [
    {
     "name": "stderr",
     "output_type": "stream",
     "text": [
      "[2024-04-08 10:49:24] Opening dataset...\n",
      "[2024-04-08 10:49:28] The dataset was successfuly opened\n",
      "[2024-04-08 10:49:28] Defining geo-location parameters\n",
      "[2024-04-08 10:49:29] Defining time selection parameters\n",
      "[2024-04-08 10:49:29] Retrieving data subset ...\n",
      "[2024-04-08 10:49:59] Done\n",
      "model units K\n"
     ]
    }
   ],
   "source": [
    "#########################\n",
    "# *** Leer un modelo ****\n",
    "#########################\n",
    "rcm.hist.subset <- subset(df, activity == 'CORDEX' & domain=='EUR-44' & experiment == 'historical' & variable=='tasmax' & rcm =='RACMO22E' & model == 'ICHEC-EC-EARTH' & ensemble == 'r1i1p1') \n",
    "rcm.hist.loc <- as.character(rcm.hist.subset $location)\n",
    "hist.data <- loadGridData(rcm.hist.loc, var=\"tasmax\", years= 1951:1972,lonLim =c(-10, 5), latLim = c(35,44))\n",
    "# Comprobar las unidades de los datos\n",
    "message(\"model units \",getGridUnits(hist.data)) # degC para temperaturas, mm ó kg*m-2 para precipitación\n",
    "# Pasar a grados Celsius\n",
    "hist.data <- gridArithmetics(hist.data, 273.15, operator=\"-\")"
   ]
  },
  {
   "cell_type": "code",
   "execution_count": 10,
   "metadata": {
    "vscode": {
     "languageId": "r"
    }
   },
   "outputs": [
    {
     "name": "stderr",
     "output_type": "stream",
     "text": [
      "[2024-04-08 10:50:14] - Computing climatology...\n",
      "[2024-04-08 10:50:14] - Done.\n"
     ]
    },
    {
     "data": {
      "image/png": "[encoded data removed]",
      "text/plain": [
       "plot without title"
      ]
     },
     "metadata": {},
     "output_type": "display_data"
    }
   ],
   "source": [
    "spatialPlot(climatology(hist.data) , backdrop.theme = \"coastline\", rev.colors = TRUE,  at= seq(0,25),\n",
    "            main= \"Temperatura máxima de Iberia simulada\") # lo pinta en el Ecuador, donde está centrada la malla regular del modelo"
   ]
  },
  {
   "cell_type": "code",
   "execution_count": 11,
   "metadata": {
    "vscode": {
     "languageId": "r"
    }
   },
   "outputs": [
    {
     "name": "stderr",
     "output_type": "stream",
     "text": [
      "[2024-04-08 10:51:04] Opening dataset...\n",
      "[2024-04-08 10:51:05] The dataset was successfuly opened\n",
      "[2024-04-08 10:51:05] Defining geo-location parameters\n",
      "[2024-04-08 10:51:05] Defining time selection parameters\n",
      "NOTE: Undefined Dataset Time Axis (static variable)\n",
      "[2024-04-08 10:51:05] Retrieving data subset ...\n",
      "[2024-04-08 10:51:06] Done\n"
     ]
    }
   ],
   "source": [
    "##############################################\n",
    "# *** Aplicar máscara de tierra al modelo ****\n",
    "##############################################\n",
    "rcm.mask <- subset(df, activity == 'CORDEX' & domain=='EUR-44' & experiment == 'historical' & variable=='sftlf' & rcm =='RACMO22E' & model == 'ICHEC-EC-EARTH' & ensemble == 'r1i1p1') \n",
    "rcm.mask.loc <- as.character(rcm.mask$location)\n",
    "rcm.mask <- loadGridData(rcm.mask.loc, var=\"sftlf\", lonLim =c(-10, 5), latLim = c(35,44))\n",
    "# En este modelo, valores entre 0 y 100 de land area fraction, establecemos un umbral para decir qué es tierra y qué es mar"
   ]
  },
  {
   "cell_type": "code",
   "execution_count": 12,
   "metadata": {
    "vscode": {
     "languageId": "r"
    }
   },
   "outputs": [
    {
     "data": {
      "image/png": "[encoded data removed]",
      "text/plain": [
       "plot without title"
      ]
     },
     "metadata": {},
     "output_type": "display_data"
    }
   ],
   "source": [
    "spatialPlot(rcm.mask) # porcentaje de tierra de cada pixel"
   ]
  },
  {
   "cell_type": "code",
   "execution_count": 13,
   "metadata": {
    "vscode": {
     "languageId": "r"
    }
   },
   "outputs": [],
   "source": [
    "rcm.mask$Data[rcm.mask$Data < 40] <- NA\n",
    "rcm.mask$Data[rcm.mask$Data >= 40] <- 1 # OJO! puede que en el algún modelo venga en tanto por 1 en lugar de %. Adaptar."
   ]
  },
  {
   "cell_type": "code",
   "execution_count": 14,
   "metadata": {
    "vscode": {
     "languageId": "r"
    }
   },
   "outputs": [
    {
     "data": {
      "image/png": "[encoded data removed]",
      "text/plain": [
       "plot without title"
      ]
     },
     "metadata": {},
     "output_type": "display_data"
    }
   ],
   "source": [
    "spatialPlot(rcm.mask) # 1's en tierra, NA's en mar"
   ]
  },
  {
   "cell_type": "code",
   "execution_count": 15,
   "metadata": {
    "vscode": {
     "languageId": "r"
    }
   },
   "outputs": [],
   "source": [
    "# Multiplicamos los datos del modelo por su máscara tierra-mar. Pondrá NA en los puntos de mar.\n",
    "# Se hace una multiplicación día a día de los datos del modelo por la máscara.\n",
    "time <- getRefDates(hist.data)\n",
    "nt <- length(time)\n",
    "ls <-lapply(1:nt, function(i){\n",
    "  timei <-subsetDimension(hist.data, dimension = \"time\", indices=i) # separa día a día \n",
    "  gridArithmetics(timei, rcm.mask, operator = \"*\") # multiplica los dos grids\n",
    "}\n",
    ")\n",
    "rcm.hist.masked <- bindGrid(ls, dimension = \"time\") # bindGrid es una función de transforeR que vuelve a unir todos los días en un grid de climate4R\n",
    "rm(hist.data, ls, rcm.mask)"
   ]
  },
  {
   "cell_type": "code",
   "execution_count": 16,
   "metadata": {
    "vscode": {
     "languageId": "r"
    }
   },
   "outputs": [
    {
     "name": "stderr",
     "output_type": "stream",
     "text": [
      "[2024-04-08 10:55:08] - Computing climatology...\n",
      "[2024-04-08 10:55:10] - Done.\n"
     ]
    },
    {
     "data": {
      "image/png": "[encoded data removed]",
      "text/plain": [
       "plot without title"
      ]
     },
     "metadata": {},
     "output_type": "display_data"
    }
   ],
   "source": [
    "spatialPlot(climatology(rcm.hist.masked) , backdrop.theme = \"coastline\", rev.colors = TRUE,  \n",
    "            at= seq(0,25), main= \"Temperatura máxima de Iberia (solo tierra) simulada\")# lo pinta en el Ecuador, donde está centrada la malla regular del modelo"
   ]
  },
  {
   "cell_type": "code",
   "execution_count": 19,
   "metadata": {
    "vscode": {
     "languageId": "r"
    }
   },
   "outputs": [
    {
     "name": "stderr",
     "output_type": "stream",
     "text": [
      "[2024-04-08 11:05:47] Calculating nearest neighbors...\n",
      "[2024-04-08 11:05:49] Performing nearest interpolation... may take a while\n"
     ]
    }
   ],
   "source": [
    "############################################################\n",
    "# *** Interpolar el modelo a la malla de la observación ****\n",
    "############################################################\n",
    "# Este paso lo hace automáticamente biasCorrection, pero lo hago aquí para representar el modelo en la misma malla que la observación y calcular el sesgo (bias)\n",
    "rcm.hist.interp <- interpGrid(rcm.hist.masked, new.coordinates = getGrid(tmax))"
   ]
  },
  {
   "cell_type": "code",
   "execution_count": 18,
   "metadata": {
    "vscode": {
     "languageId": "r"
    }
   },
   "outputs": [
    {
     "name": "stderr",
     "output_type": "stream",
     "text": [
      "[2024-04-08 11:04:53] - Computing climatology...\n",
      "[2024-04-08 11:05:23] - Done.\n"
     ]
    },
    {
     "ename": "ERROR",
     "evalue": "Error in getDim(grid): objeto 'rcm.hist.interp' no encontrado\n",
     "output_type": "error",
     "traceback": [
      "Error in getDim(grid): objeto 'rcm.hist.interp' no encontrado\nTraceback:\n",
      "1. spatialPlot(makeMultiGrid(climatology(tmax), climatology(rcm.hist.interp)), \n .     backdrop.theme = \"coastline\", rev.colors = TRUE, at = seq(0, \n .         25), main = \"Temperatura máxima en Iberia\", as.table = TRUE, \n .     names.attr = c(\"OBS\", \"RCM interpolado\"), layout = c(2, 1))",
      "2. makeMultiGrid(climatology(tmax), climatology(rcm.hist.interp))",
      "3. climatology(rcm.hist.interp)",
      "4. redim(grid, member = FALSE, runtime = FALSE)",
      "5. getDim(grid)"
     ]
    }
   ],
   "source": [
    "spatialPlot(makeMultiGrid(climatology(tmax),climatology(rcm.hist.interp)) , backdrop.theme = \"coastline\", \n",
    "            rev.colors = TRUE,  at= seq(0,25), main= \"Temperatura máxima en Iberia\", as.table=TRUE, \n",
    "            names.attr=c(\"OBS\", \"RCM interpolado\"), layout=c(2,1)) # pinta ambos en las latitudes que tocan"
   ]
  }
 ],
 "metadata": {
  "kernelspec": {
   "display_name": "R",
   "language": "R",
   "name": "ir"
  },
  "language_info": {
   "codemirror_mode": "r",
   "file_extension": ".r",
   "mimetype": "text/x-r-source",
   "name": "R",
   "pygments_lexer": "r",
   "version": "3.6.1"
  }
 },
 "nbformat": 4,
 "nbformat_minor": 2
}
