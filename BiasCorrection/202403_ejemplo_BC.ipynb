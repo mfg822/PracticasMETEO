{
 "cells": [
  {
   "cell_type": "code",
   "execution_count": 1,
   "id": "73955b3f",
   "metadata": {
    "vscode": {
     "languageId": "r"
    }
   },
   "outputs": [
    {
     "name": "stderr",
     "output_type": "stream",
     "text": [
      "Warning message:\n",
      "\"package 'loadeR' was built under R version 3.6.3\"Loading required package: rJava\n",
      "Warning message:\n",
      "\"package 'rJava' was built under R version 3.6.3\"Loading required package: loadeR.java\n",
      "Warning message:\n",
      "\"package 'loadeR.java' was built under R version 3.6.3\"Java version 21x amd64 by Azul Systems, Inc. detected\n",
      "NetCDF Java Library v4.6.0-SNAPSHOT (23 Apr 2015) loaded and ready\n",
      "Loading required package: climate4R.UDG\n",
      "Warning message:\n",
      "\"package 'climate4R.UDG' was built under R version 3.6.3\"climate4R.UDG version 0.2.6 (2023-06-26) is loaded\n",
      "Please use 'citation(\"climate4R.UDG\")' to cite this package.\n",
      "loadeR version 1.8.1 (2023-06-22) is loaded\n",
      "Please use 'citation(\"loadeR\")' to cite this package.\n",
      "Warning message:\n",
      "\"package 'visualizeR' was built under R version 3.6.3\"Loading required package: transformeR\n",
      "Warning message:\n",
      "\"package 'transformeR' was built under R version 3.6.3\""
     ]
    },
    {
     "name": "stdout",
     "output_type": "stream",
     "text": [
      "\n",
      "    _______   ____  ___________________  __  ________ \n",
      "   / ___/ /  / /  |/  / __  /_  __/ __/ / / / / __  / \n",
      "  / /  / /  / / /|_/ / /_/ / / / / __/ / /_/ / /_/_/  \n",
      " / /__/ /__/ / /  / / __  / / / / /__ /___  / / \\ \\ \n",
      " \\___/____/_/_/  /_/_/ /_/ /_/  \\___/    /_/\\/   \\_\\ \n",
      " \n",
      "      github.com/SantanderMetGroup/climate4R\n",
      "\n"
     ]
    },
    {
     "name": "stderr",
     "output_type": "stream",
     "text": [
      "transformeR version 2.2.2 (2023-10-26) is loaded\n",
      "Please see 'citation(\"transformeR\")' to cite this package.\n",
      "visualizeR version 1.6.4 (2023-10-26) is loaded\n",
      "Please see 'citation(\"visualizeR\")' to cite this package.\n",
      "Warning message:\n",
      "\"package 'downscaleR' was built under R version 3.6.3\"downscaleR version 3.3.4 (2023-06-22) is loaded\n",
      "Please use 'citation(\"downscaleR\")' to cite this package.\n",
      "Warning message:\n",
      "\"package 'climate4R.indices' was built under R version 3.6.3\"climate4R.indices version 0.3.1 (2023-06-22) is loaded\n",
      "Use 'indexShow()' for an overview of the available climate indices and circIndexShow() for the circulation indices.\n",
      "NOTE: use package climate4R.climdex to calculate ETCCDI indices.\n",
      "\n",
      "Attaching package: 'climate4R.indices'\n",
      "\n",
      "The following object is masked from 'package:transformeR':\n",
      "\n",
      "    lambWT\n",
      "\n"
     ]
    }
   ],
   "source": [
    "# Programa de ejemplo de lectura de datos y aplicación de bias correction para un seminario introductorio a BC\n",
    "# Ana Casanueva, 20.03.24\n",
    "rm(list=ls())\n",
    "graphics.off()\n",
    "library(loadeR) # para leer datos (función loadGridData)\n",
    "library(visualizeR) # para generar figuras (función spatialPlot)\n",
    "library(downscaleR) # para bias correction (función biasCorrection)\n",
    "library(transformeR) # para transformaciones, p.ej. subset (subsetDimension, subsetGrid), interpolar (interpGrid), etc.\n",
    "library(climate4R.indices) # para calcular índices\n",
    "\n",
    "# Inventario con lista de datasets disponibles\n",
    "df <- read.csv(\"../Data_AEMET/inventory.csv\")"
   ]
  },
  {
   "cell_type": "code",
   "execution_count": 2,
   "id": "59677ab4",
   "metadata": {
    "vscode": {
     "languageId": "r"
    }
   },
   "outputs": [
    {
     "name": "stderr",
     "output_type": "stream",
     "text": [
      "[2024-04-23 11:37:49] Doing inventory ...\n",
      "[2024-04-23 11:37:49] Opening dataset...\n",
      "[2024-04-23 11:37:51] The dataset was successfuly opened\n",
      "[2024-04-23 11:37:52] Retrieving info for 'hurs' (11 vars remaining)\n",
      "[2024-04-23 11:37:53] Retrieving info for 'huss' (10 vars remaining)\n",
      "[2024-04-23 11:37:53] Retrieving info for 'prsn' (9 vars remaining)\n",
      "[2024-04-23 11:37:53] Retrieving info for 'psl' (8 vars remaining)\n",
      "[2024-04-23 11:37:53] Retrieving info for 'ps' (7 vars remaining)\n",
      "[2024-04-23 11:37:53] Retrieving info for 'rlds' (6 vars remaining)\n",
      "[2024-04-23 11:37:53] Retrieving info for 'rsds' (5 vars remaining)\n",
      "[2024-04-23 11:37:53] Retrieving info for 'sfcWind' (4 vars remaining)\n",
      "[2024-04-23 11:37:53] Retrieving info for 'tasmax' (3 vars remaining)\n",
      "[2024-04-23 11:37:53] Retrieving info for 'tas' (2 vars remaining)\n",
      "[2024-04-23 11:37:53] Retrieving info for 'tasmin' (1 vars remaining)\n",
      "[2024-04-23 11:37:53] Retrieving info for 'pr' (0 vars remaining)\n",
      "[2024-04-23 11:37:53] Done.\n",
      "[2024-04-23 11:37:54] Opening dataset...\n",
      "[2024-04-23 11:37:55] The dataset was successfuly opened\n",
      "[2024-04-23 11:37:55] Defining geo-location parameters\n",
      "[2024-04-23 11:37:55] Defining time selection parameters\n",
      "[2024-04-23 11:37:55] Retrieving data subset ...\n",
      "[2024-04-23 11:39:18] Done\n"
     ]
    }
   ],
   "source": [
    "#############################\n",
    "# *** Leer observaciones ****\n",
    "#############################\n",
    "obs.subset <- subset(df, activity == 'W5E5')\n",
    "obs.loc <- as.character(obs.subset$location)\n",
    "di.obs <- dataInventory(obs.loc)\n",
    "obs.data <- loadGridData(obs.loc, var=\"tasmax\", years= 1986:2005,lonLim =c(-10, 5), latLim = c(35,44))"
   ]
  },
  {
   "cell_type": "code",
   "execution_count": 3,
   "id": "585f029c",
   "metadata": {
    "vscode": {
     "languageId": "r"
    }
   },
   "outputs": [
    {
     "name": "stderr",
     "output_type": "stream",
     "text": [
      "[2024-04-23 11:39:20] - Computing climatology...\n",
      "[2024-04-23 11:39:20] - Done.\n"
     ]
    },
    {
     "data": {
      "image/png": "[encoded data removed]",
      "text/plain": [
       "plot without title"
      ]
     },
     "metadata": {},
     "output_type": "display_data"
    }
   ],
   "source": [
    "spatialPlot(climatology(obs.data), backdrop.theme = \"coastline\", rev.colors = TRUE, at= seq(0,25), \n",
    "            main= \"Temperatura maxima observada\")"
   ]
  },
  {
   "cell_type": "code",
   "execution_count": 4,
   "id": "d8af9a36",
   "metadata": {
    "vscode": {
     "languageId": "r"
    }
   },
   "outputs": [
    {
     "name": "stderr",
     "output_type": "stream",
     "text": [
      "[2024-04-23 11:39:25] Opening dataset...\n",
      "[2024-04-23 11:39:26] The dataset was successfuly opened\n",
      "[2024-04-23 11:39:26] Defining geo-location parameters\n",
      "[2024-04-23 11:39:28] Defining time selection parameters\n",
      "[2024-04-23 11:39:28] Retrieving data subset ...\n",
      "[2024-04-23 11:39:51] Done\n",
      "model units K\n"
     ]
    }
   ],
   "source": [
    "#########################\n",
    "# *** Leer un modelo ****\n",
    "#########################\n",
    "rcm.hist.subset <- subset(df, activity == 'CORDEX' & domain=='EUR-44' & experiment == 'historical' & variable=='tasmax' & rcm =='RACMO22E' & model == 'ICHEC-EC-EARTH' & ensemble == 'r1i1p1') \n",
    "rcm.hist.loc <- as.character(rcm.hist.subset $location)\n",
    "hist.data <- loadGridData(rcm.hist.loc, var=\"tasmax\", years= 1986:2005,lonLim =c(-10, 5), latLim = c(35,44))\n",
    "# Comprobar las unidades de los datos\n",
    "message(\"model units \",getGridUnits(hist.data)) # degC para temperaturas, mm ó kg*m-2 para precipitación\n",
    "# Pasar a grados Celsius\n",
    "hist.data <- gridArithmetics(hist.data, 273.15, operator=\"-\")"
   ]
  },
  {
   "cell_type": "code",
   "execution_count": 5,
   "id": "e4dcae12",
   "metadata": {
    "vscode": {
     "languageId": "r"
    }
   },
   "outputs": [
    {
     "name": "stderr",
     "output_type": "stream",
     "text": [
      "[2024-04-23 11:39:55] - Computing climatology...\n",
      "[2024-04-23 11:39:56] - Done.\n"
     ]
    },
    {
     "data": {
      "image/png": "[encoded data removed]",
      "text/plain": [
       "plot without title"
      ]
     },
     "metadata": {},
     "output_type": "display_data"
    }
   ],
   "source": [
    "spatialPlot(climatology(hist.data) , backdrop.theme = \"coastline\", rev.colors = TRUE,  at= seq(0,25),\n",
    "            main= \"Temperatura máxima de Iberia simulada\") # lo pinta en el Ecuador, donde está centrada la malla regular del modelo"
   ]
  },
  {
   "cell_type": "code",
   "execution_count": 6,
   "id": "9b38aca7",
   "metadata": {
    "vscode": {
     "languageId": "r"
    }
   },
   "outputs": [
    {
     "name": "stderr",
     "output_type": "stream",
     "text": [
      "[2024-04-23 11:39:58] Opening dataset...\n",
      "[2024-04-23 11:39:58] The dataset was successfuly opened\n",
      "[2024-04-23 11:39:58] Defining geo-location parameters\n",
      "[2024-04-23 11:39:59] Defining time selection parameters\n",
      "NOTE: Undefined Dataset Time Axis (static variable)\n",
      "[2024-04-23 11:39:59] Retrieving data subset ...\n",
      "[2024-04-23 11:39:59] Done\n"
     ]
    }
   ],
   "source": [
    "##############################################\n",
    "# *** Aplicar máscara de tierra al modelo ****\n",
    "##############################################\n",
    "rcm.mask <- subset(df, activity == 'CORDEX' & domain=='EUR-44' & experiment == 'historical' & variable=='sftlf' & rcm =='RACMO22E' & model == 'ICHEC-EC-EARTH' & ensemble == 'r1i1p1') \n",
    "rcm.mask.loc <- as.character(rcm.mask$location)\n",
    "rcm.mask <- loadGridData(rcm.mask.loc, var=\"sftlf\", lonLim =c(-10, 5), latLim = c(35,44))\n",
    "# En este modelo, valores entre 0 y 100 de land area fraction, establecemos un umbral para decir qué es tierra y qué es mar"
   ]
  },
  {
   "cell_type": "code",
   "execution_count": 7,
   "id": "6e35a44b",
   "metadata": {
    "vscode": {
     "languageId": "r"
    }
   },
   "outputs": [
    {
     "data": {
      "image/png": "[encoded data removed]",
      "text/plain": [
       "plot without title"
      ]
     },
     "metadata": {},
     "output_type": "display_data"
    }
   ],
   "source": [
    "spatialPlot(rcm.mask) # porcentaje de tierra de cada pixel"
   ]
  },
  {
   "cell_type": "code",
   "execution_count": 8,
   "id": "8f37d8dc",
   "metadata": {
    "vscode": {
     "languageId": "r"
    }
   },
   "outputs": [],
   "source": [
    "rcm.mask$Data[rcm.mask$Data < 40] <- NA\n",
    "rcm.mask$Data[rcm.mask$Data >= 40] <- 1 # OJO! puede que en el algún modelo venga en tanto por 1 en lugar de %. Adaptar.\n",
    "\n",
    "# qsub -I -q himem -l mem=100Gb"
   ]
  },
  {
   "cell_type": "code",
   "execution_count": 9,
   "id": "b1b5b13f",
   "metadata": {
    "vscode": {
     "languageId": "r"
    }
   },
   "outputs": [
    {
     "data": {
      "image/png": "[encoded data removed]",
      "text/plain": [
       "plot without title"
      ]
     },
     "metadata": {},
     "output_type": "display_data"
    }
   ],
   "source": [
    "spatialPlot(rcm.mask) # 1's en tierra, NA's en mar"
   ]
  },
  {
   "cell_type": "code",
   "execution_count": 10,
   "id": "a79946f1",
   "metadata": {
    "vscode": {
     "languageId": "r"
    }
   },
   "outputs": [],
   "source": [
    "# Multiplicamos los datos del modelo por su máscara tierra-mar. Pondrá NA en los puntos de mar.\n",
    "# Se hace una multiplicación día a día de los datos del modelo por la máscara.\n",
    "time <- getRefDates(hist.data)\n",
    "nt <- length(time)\n",
    "ls <-lapply(1:nt, function(i){\n",
    "  timei <-subsetDimension(hist.data, dimension = \"time\", indices=i) # separa día a día \n",
    "  gridArithmetics(timei, rcm.mask, operator = \"*\") # multiplica los dos grids\n",
    "}\n",
    ")\n",
    "rcm.hist.masked <- bindGrid(ls, dimension = \"time\") # bindGrid es una función de transforeR que vuelve a unir todos los días en un grid de climate4R\n",
    "rm(hist.data, ls, rcm.mask)"
   ]
  },
  {
   "cell_type": "code",
   "execution_count": 11,
   "id": "b15acc92",
   "metadata": {
    "vscode": {
     "languageId": "r"
    }
   },
   "outputs": [
    {
     "name": "stderr",
     "output_type": "stream",
     "text": [
      "[2024-04-23 11:40:44] - Computing climatology...\n",
      "[2024-04-23 11:40:44] - Done.\n"
     ]
    },
    {
     "data": {
      "image/png": "[encoded data removed]",
      "text/plain": [
       "plot without title"
      ]
     },
     "metadata": {},
     "output_type": "display_data"
    }
   ],
   "source": [
    "spatialPlot(climatology(rcm.hist.masked) , backdrop.theme = \"coastline\", rev.colors = TRUE,  \n",
    "            at= seq(0,25), main= \"Temperatura máxima de Iberia (solo tierra) simulada\")# lo pinta en el Ecuador, donde está centrada la malla regular del modelo"
   ]
  },
  {
   "cell_type": "code",
   "execution_count": 12,
   "id": "157d1f4e",
   "metadata": {
    "vscode": {
     "languageId": "r"
    }
   },
   "outputs": [
    {
     "name": "stderr",
     "output_type": "stream",
     "text": [
      "[2024-04-23 11:40:44] Calculating nearest neighbors...\n",
      "[2024-04-23 11:40:44] Performing nearest interpolation... may take a while\n",
      "[2024-04-23 11:40:45] Done\n"
     ]
    }
   ],
   "source": [
    "############################################################\n",
    "# *** Interpolar el modelo a la malla de la observación ****\n",
    "############################################################\n",
    "# Este paso lo hace automáticamente biasCorrection, pero lo hago aquí para representar el modelo en la misma malla que la observación y calcular el sesgo (bias)\n",
    "rcm.hist.interp <- interpGrid(rcm.hist.masked, new.coordinates = getGrid(obs.data))"
   ]
  },
  {
   "cell_type": "code",
   "execution_count": 13,
   "id": "7fd55f43",
   "metadata": {
    "vscode": {
     "languageId": "r"
    }
   },
   "outputs": [
    {
     "name": "stderr",
     "output_type": "stream",
     "text": [
      "[2024-04-23 11:41:16] - Computing climatology...\n",
      "[2024-04-23 11:41:16] - Done.\n",
      "[2024-04-23 11:41:16] - Computing climatology...\n",
      "[2024-04-23 11:41:16] - Done.\n"
     ]
    },
    {
     "data": {
      "image/png": "[encoded data removed]",
      "text/plain": [
       "plot without title"
      ]
     },
     "metadata": {},
     "output_type": "display_data"
    }
   ],
   "source": [
    "spatialPlot(makeMultiGrid(climatology(obs.data),climatology(rcm.hist.interp)) , backdrop.theme = \"coastline\", \n",
    "            rev.colors = TRUE,  at= seq(0,25), main= \"Temperatura máxima en Iberia\", as.table=TRUE, \n",
    "            names.attr=c(\"OBS\", \"RCM interpolado\"), layout=c(2,1)) # pinta ambos en las latitudes que tocan"
   ]
  },
  {
   "cell_type": "code",
   "execution_count": 14,
   "id": "32574b4c",
   "metadata": {
    "vscode": {
     "languageId": "r"
    }
   },
   "outputs": [
    {
     "name": "stderr",
     "output_type": "stream",
     "text": [
      "[2024-04-23 11:41:28] Trying to determine the time zone...\n",
      "[2024-04-23 11:41:28] Time zone identified and set to GMT\n",
      "See 'setGridDates.asPOSIXlt' to change the time zone\n"
     ]
    },
    {
     "name": "stderr",
     "output_type": "stream",
     "text": [
      "[2024-04-23 11:41:29] Already complete date record. Nothing was done\n",
      "[2024-04-23 11:41:29] Trying to determine the time zone...\n",
      "[2024-04-23 11:41:29] Time zone identified and set to GMT\n",
      "See 'setGridDates.asPOSIXlt' to change the time zone\n",
      "[2024-04-23 11:41:30] Already complete date record. Nothing was done\n",
      "[2024-04-23 11:41:30] Trying to determine the time zone...\n",
      "[2024-04-23 11:41:30] Time zone identified and set to GMT\n",
      "See 'setGridDates.asPOSIXlt' to change the time zone\n",
      "[2024-04-23 11:41:31] Already complete date record. Nothing was done\n",
      "[2024-04-23 11:41:33] Argument precipitation is set as FALSE, please ensure that this matches your data.\n",
      "[2024-04-23 11:41:35] Number of windows considered: 1...\n",
      "[2024-04-23 11:41:35] Bias-correcting 1 members separately...\n",
      "[2024-04-23 11:41:39] Done.\n",
      "[2024-04-23 11:41:39] Trying to determine the time zone...\n",
      "[2024-04-23 11:41:39] Time zone identified and set to GMT\n",
      "See 'setGridDates.asPOSIXlt' to change the time zone\n",
      "[2024-04-23 11:41:40] Already complete date record. Nothing was done\n",
      "[2024-04-23 11:41:40] Trying to determine the time zone...\n",
      "[2024-04-23 11:41:40] Time zone identified and set to GMT\n",
      "See 'setGridDates.asPOSIXlt' to change the time zone\n",
      "[2024-04-23 11:41:41] Already complete date record. Nothing was done\n",
      "[2024-04-23 11:41:41] Trying to determine the time zone...\n",
      "[2024-04-23 11:41:41] Time zone identified and set to GMT\n",
      "See 'setGridDates.asPOSIXlt' to change the time zone\n",
      "[2024-04-23 11:41:42] Already complete date record. Nothing was done\n",
      "[2024-04-23 11:41:43] Argument precipitation is set as FALSE, please ensure that this matches your data.\n",
      "[2024-04-23 11:41:45] Number of windows considered: 1...\n",
      "[2024-04-23 11:41:45] Bias-correcting 1 members separately...\n",
      "[2024-04-23 11:41:48] Done.\n"
     ]
    }
   ],
   "source": [
    "##########################\n",
    "# *** Bias correction ****\n",
    "##########################\n",
    "bc.scaling.hist <- biasCorrection(y=obs.data, x=rcm.hist.interp, newdata= rcm.hist.interp, precipitation = FALSE, \n",
    "                             method=\"scaling\", scaling.type=\"additive\" ) # correción solo de la media (aditiva para temperatura)\n",
    "bc.eqm.hist <- biasCorrection(y=obs.data, x=rcm.hist.interp, newdata= rcm.hist.interp, precipitation = FALSE, \n",
    "                         method=\"eqm\", extrapolation = \"constant\", n.quantiles=99 )  # corrección de 99 percentiles"
   ]
  },
  {
   "cell_type": "code",
   "execution_count": 16,
   "id": "b8279486",
   "metadata": {
    "vscode": {
     "languageId": "r"
    }
   },
   "outputs": [
    {
     "name": "stderr",
     "output_type": "stream",
     "text": [
      "[2024-04-23 11:42:36] - Computing climatology...\n",
      "[2024-04-23 11:42:36] - Done.\n",
      "[2024-04-23 11:42:36] - Computing climatology...\n",
      "[2024-04-23 11:42:36] - Done.\n",
      "[2024-04-23 11:42:36] - Computing climatology...\n",
      "[2024-04-23 11:42:36] - Done.\n",
      "[2024-04-23 11:42:36] - Computing climatology...\n",
      "[2024-04-23 11:42:37] - Done.\n",
      "[2024-04-23 11:42:37] - Computing climatology...\n",
      "[2024-04-23 11:42:37] - Done.\n",
      "[2024-04-23 11:42:37] - Computing climatology...\n",
      "[2024-04-23 11:42:37] - Done.\n"
     ]
    }
   ],
   "source": [
    "# Calcular el sesgo de los datos sin corregir (raw) y de las dos correcciones en la media\n",
    "bias.raw.mean.hist <- gridArithmetics(climatology(rcm.hist.interp), climatology(obs.data), operator=\"-\")\n",
    "bias.scaling.mean.hist <- gridArithmetics(climatology(bc.scaling.hist), climatology(obs.data), operator=\"-\")\n",
    "bias.eqm.mean.hist <- gridArithmetics(climatology(bc.eqm.hist), climatology(obs.data), operator=\"-\")"
   ]
  },
  {
   "cell_type": "code",
   "execution_count": 17,
   "id": "24b6db4f",
   "metadata": {
    "vscode": {
     "languageId": "r"
    }
   },
   "outputs": [
    {
     "data": {
      "image/png": "[encoded data removed]",
      "text/plain": [
       "plot without title"
      ]
     },
     "metadata": {},
     "output_type": "display_data"
    }
   ],
   "source": [
    "spatialPlot(makeMultiGrid(bias.raw.mean.hist, bias.scaling.mean.hist, bias.eqm.mean.hist), backdrop.theme = \"coastline\", \n",
    "            rev.colors = TRUE,  at= seq(-6,6), main= \"Sesgo en la temperatura máxima (promedio)\", layout=c(3,1),\n",
    "            as.table=TRUE, names.attr=c(\"RAW\", \"BC (scaling)\", \"BC (eqm)\"))"
   ]
  },
  {
   "cell_type": "code",
   "execution_count": 19,
   "id": "34fa2bfc",
   "metadata": {
    "vscode": {
     "languageId": "r"
    }
   },
   "outputs": [
    {
     "name": "stderr",
     "output_type": "stream",
     "text": [
      "[2024-04-15 11:12:04] Calculating TXth ...\n",
      "[2024-04-15 11:12:04] Done\n",
      "[2024-04-15 11:12:04] Calculating TXth ...\n",
      "[2024-04-15 11:12:04] Done\n",
      "[2024-04-15 11:12:05] Calculating TXth ...\n",
      "[2024-04-15 11:12:05] Done\n",
      "[2024-04-15 11:12:05] Calculating TXth ...\n",
      "[2024-04-15 11:12:06] Done\n"
     ]
    }
   ],
   "source": [
    "# calcular el sesgo de ambos en el número de días por encima de 35 grados, año a año\n",
    "obs.tx35 <- indexGrid(tx = obs.data, time.resolution = \"year\", index.code = \"TXth\", th=35)\n",
    "raw.tx35 <- indexGrid(tx = rcm.hist.interp, time.resolution = \"year\", index.code = \"TXth\", th=35)\n",
    "# por alguna razón biasCorrection devuelve fechas en un formato distinto y no le gustan a indexGrid (hago un apaño)\n",
    "bc.scaling$Dates <- rcm.hist.interp$Dates\n",
    "bc.eqm$Dates <- rcm.hist.interp$Dates\n",
    "bc.scaling.tx35 <- indexGrid(tx = bc.scaling, time.resolution = \"year\", index.code = \"TXth\", th=35)\n",
    "bc.eqm.tx35 <- indexGrid(tx = bc.eqm, time.resolution = \"year\", index.code = \"TXth\", th=35)"
   ]
  },
  {
   "cell_type": "code",
   "execution_count": 20,
   "id": "b03a4a44",
   "metadata": {
    "vscode": {
     "languageId": "r"
    }
   },
   "outputs": [
    {
     "name": "stderr",
     "output_type": "stream",
     "text": [
      "[2024-04-15 11:12:06] - Computing climatology...\n"
     ]
    },
    {
     "name": "stderr",
     "output_type": "stream",
     "text": [
      "[2024-04-15 11:12:06] - Done.\n",
      "[2024-04-15 11:12:06] - Computing climatology...\n",
      "[2024-04-15 11:12:06] - Done.\n",
      "[2024-04-15 11:12:06] - Computing climatology...\n",
      "[2024-04-15 11:12:06] - Done.\n",
      "[2024-04-15 11:12:06] - Computing climatology...\n",
      "[2024-04-15 11:12:06] - Done.\n",
      "[2024-04-15 11:12:06] - Computing climatology...\n",
      "[2024-04-15 11:12:06] - Done.\n",
      "[2024-04-15 11:12:06] - Computing climatology...\n",
      "[2024-04-15 11:12:06] - Done.\n"
     ]
    }
   ],
   "source": [
    "bias.raw.tx35 <- gridArithmetics(climatology(raw.tx35), climatology(obs.tx35), operator=\"-\")\n",
    "bias.scaling.tx35 <- gridArithmetics(climatology(bc.scaling.tx35), climatology(obs.tx35), operator=\"-\")\n",
    "bias.eqm.tx35 <- gridArithmetics(climatology(bc.eqm.tx35), climatology(obs.tx35), operator=\"-\")"
   ]
  },
  {
   "cell_type": "code",
   "execution_count": 21,
   "id": "34ea2cd2",
   "metadata": {
    "vscode": {
     "languageId": "r"
    }
   },
   "outputs": [
    {
     "data": {
      "image/png": "[encoded data removed]",
      "text/plain": [
       "plot without title"
      ]
     },
     "metadata": {},
     "output_type": "display_data"
    }
   ],
   "source": [
    "spatialPlot(makeMultiGrid(bias.raw.tx35, bias.scaling.tx35, bias.eqm.tx35), backdrop.theme = \"coastline\", \n",
    "            rev.colors = TRUE,  at= seq(-30,30,5), main= \"Sesgo en TX35\", layout=c(3,1),\n",
    "            as.table=TRUE, names.attr=c(\"RAW\", \"BC (scaling)\", \"BC (eqm)\"))"
   ]
  },
  {
   "cell_type": "markdown",
   "id": "3fe04138",
   "metadata": {},
   "source": [
    "### ESCENARIO A FUTURO"
   ]
  },
  {
   "cell_type": "code",
   "execution_count": 18,
   "id": "5b71fa17",
   "metadata": {
    "vscode": {
     "languageId": "r"
    }
   },
   "outputs": [],
   "source": [
    "###############################################\n",
    "# *** Bias correction del escenario futuro ****\n",
    "###############################################\n",
    "# TAREA: Hacer lo mismo, pero esta vez aplicar la correción a las simulaciones de futuro (argumento newdata)\n",
    "rcm.rcp85.subset <- subset(df, activity == 'CORDEX' & domain=='EUR-44' & experiment == 'rcp85' & variable=='tasmax' & rcm =='RACMO22E' & model == 'ICHEC-EC-EARTH' & ensemble == 'r1i1p1') \n",
    "rcm.rcp85.loc <- as.character(rcm.rcp85.subset $location)"
   ]
  },
  {
   "cell_type": "code",
   "execution_count": 19,
   "id": "8b2e8c2a",
   "metadata": {
    "vscode": {
     "languageId": "r"
    }
   },
   "outputs": [
    {
     "name": "stderr",
     "output_type": "stream",
     "text": [
      "[2024-04-23 11:44:08] Opening dataset...\n",
      "[2024-04-23 11:44:11] The dataset was successfuly opened\n",
      "[2024-04-23 11:44:11] Defining geo-location parameters\n",
      "[2024-04-23 11:44:12] Defining time selection parameters\n",
      "[2024-04-23 11:44:12] Retrieving data subset ...\n",
      "[2024-04-23 11:44:43] Done\n",
      "model units K\n"
     ]
    }
   ],
   "source": [
    "rcp85.data <- loadGridData(rcm.rcp85.loc, var=\"tasmax\", years= 2050:2080,lonLim =c(-10, 5), latLim = c(35,44))\n",
    "# Comprobar las unidades de los datos\n",
    "message(\"model units \",getGridUnits(rcp85.data)) # degC para temperaturas, mm ó kg*m-2 para precipitación\n",
    "# Pasar a grados Celsius\n",
    "rcp85.data <- gridArithmetics(rcp85.data, 273.15, operator=\"-\")"
   ]
  },
  {
   "cell_type": "code",
   "execution_count": 20,
   "id": "8f1922bc",
   "metadata": {
    "vscode": {
     "languageId": "r"
    }
   },
   "outputs": [
    {
     "name": "stderr",
     "output_type": "stream",
     "text": [
      "[2024-04-23 11:47:34] - Computing climatology...\n",
      "[2024-04-23 11:47:34] - Done.\n"
     ]
    },
    {
     "data": {
      "image/png": "[encoded data removed]",
      "text/plain": [
       "plot without title"
      ]
     },
     "metadata": {},
     "output_type": "display_data"
    }
   ],
   "source": [
    "spatialPlot(climatology(rcp85.data) , backdrop.theme = \"coastline\", rev.colors = TRUE,  at= seq(0,25),\n",
    "            main= \"Temperatura máxima de Iberia simulada\") # lo pinta en el Ecuador, donde está centrada la malla regular del modelo"
   ]
  },
  {
   "cell_type": "code",
   "execution_count": 21,
   "id": "683afd59",
   "metadata": {
    "vscode": {
     "languageId": "r"
    }
   },
   "outputs": [
    {
     "name": "stderr",
     "output_type": "stream",
     "text": [
      "[2024-04-23 11:47:36] Opening dataset...\n",
      "[2024-04-23 11:47:36] The dataset was successfuly opened\n",
      "[2024-04-23 11:47:36] Defining geo-location parameters\n",
      "[2024-04-23 11:47:37] Defining time selection parameters\n",
      "NOTE: Undefined Dataset Time Axis (static variable)\n",
      "[2024-04-23 11:47:37] Retrieving data subset ...\n",
      "[2024-04-23 11:47:37] Done\n"
     ]
    }
   ],
   "source": [
    "##############################################\n",
    "# *** Aplicar máscara de tierra al modelo ****\n",
    "##############################################\n",
    "rcm.mask <- subset(df, activity == 'CORDEX' & domain=='EUR-44' & experiment == 'rcp85' & variable=='sftlf' & rcm =='RACMO22E' & model == 'ICHEC-EC-EARTH' & ensemble == 'r1i1p1') \n",
    "rcm.mask.loc <- as.character(rcm.mask$location)\n",
    "rcm.mask <- loadGridData(rcm.mask.loc, var=\"sftlf\", lonLim =c(-10, 5), latLim = c(35,44))\n",
    "# En este modelo, valores entre 0 y 100 de land area fraction, establecemos un umbral para decir qué es tierra y qué es mar"
   ]
  },
  {
   "cell_type": "code",
   "execution_count": 22,
   "id": "22c2c12f",
   "metadata": {
    "vscode": {
     "languageId": "r"
    }
   },
   "outputs": [
    {
     "data": {
      "image/png": "[encoded data removed]",
      "text/plain": [
       "plot without title"
      ]
     },
     "metadata": {},
     "output_type": "display_data"
    }
   ],
   "source": [
    "spatialPlot(rcm.mask) # porcentaje de tierra de cada pixel"
   ]
  },
  {
   "cell_type": "code",
   "execution_count": 23,
   "id": "0904634e",
   "metadata": {
    "vscode": {
     "languageId": "r"
    }
   },
   "outputs": [],
   "source": [
    "rcm.mask$Data[rcm.mask$Data < 40] <- NA\n",
    "rcm.mask$Data[rcm.mask$Data >= 40] <- 1 # OJO! puede que en el algún modelo venga en tanto por 1 en lugar de %. Adaptar."
   ]
  },
  {
   "cell_type": "code",
   "execution_count": 24,
   "id": "d37957bd",
   "metadata": {
    "vscode": {
     "languageId": "r"
    }
   },
   "outputs": [
    {
     "data": {
      "image/png": "[encoded data removed]",
      "text/plain": [
       "plot without title"
      ]
     },
     "metadata": {},
     "output_type": "display_data"
    }
   ],
   "source": [
    "spatialPlot(rcm.mask) # 1's en tierra, NA's en mar"
   ]
  },
  {
   "cell_type": "code",
   "execution_count": 25,
   "id": "4fe65619",
   "metadata": {
    "vscode": {
     "languageId": "r"
    }
   },
   "outputs": [],
   "source": [
    "# Multiplicamos los datos del modelo por su máscara tierra-mar. Pondrá NA en los puntos de mar.\n",
    "# Se hace una multiplicación día a día de los datos del modelo por la máscara.\n",
    "time <- getRefDates(rcp85.data)\n",
    "nt <- length(time)\n",
    "ls <-lapply(1:nt, function(i){\n",
    "  timei <-subsetDimension(rcp85.data, dimension = \"time\", indices=i) # separa día a día \n",
    "  gridArithmetics(timei, rcm.mask, operator = \"*\") # multiplica los dos grids\n",
    "}\n",
    ")\n",
    "rcm.rcp85.masked <- bindGrid(ls, dimension = \"time\") # bindGrid es una función de transforeR que vuelve a unir todos los días en un grid de climate4R\n",
    "rm(rcp85.data, ls, rcm.mask)"
   ]
  },
  {
   "cell_type": "code",
   "execution_count": 26,
   "id": "e95afb0e",
   "metadata": {
    "vscode": {
     "languageId": "r"
    }
   },
   "outputs": [
    {
     "name": "stderr",
     "output_type": "stream",
     "text": [
      "[2024-04-23 11:48:50] - Computing climatology...\n",
      "[2024-04-23 11:48:50] - Done.\n"
     ]
    },
    {
     "data": {
      "image/png": "[encoded data removed]",
      "text/plain": [
       "plot without title"
      ]
     },
     "metadata": {},
     "output_type": "display_data"
    }
   ],
   "source": [
    "spatialPlot(climatology(rcm.rcp85.masked) , backdrop.theme = \"coastline\", rev.colors = TRUE,  \n",
    "            at= seq(0,25), main= \"Temperatura máxima de Iberia (solo tierra) simulada\")# lo pinta en el Ecuador, donde está centrada la malla regular del modelo"
   ]
  },
  {
   "cell_type": "code",
   "execution_count": 27,
   "id": "de47d985",
   "metadata": {
    "vscode": {
     "languageId": "r"
    }
   },
   "outputs": [
    {
     "name": "stderr",
     "output_type": "stream",
     "text": [
      "[2024-04-23 11:48:52] Calculating nearest neighbors...\n",
      "[2024-04-23 11:48:52] Performing nearest interpolation... may take a while\n",
      "[2024-04-23 11:48:52] Done\n"
     ]
    }
   ],
   "source": [
    "############################################################\n",
    "# *** Interpolar el modelo a la malla de la observación ****\n",
    "############################################################\n",
    "# Este paso lo hace automáticamente biasCorrection, pero lo hago aquí para representar el modelo en la misma malla que la observación y calcular el sesgo (bias)\n",
    "rcm.rcp85.interp <- interpGrid(rcm.rcp85.masked, new.coordinates = getGrid(obs.data))"
   ]
  },
  {
   "cell_type": "code",
   "execution_count": 28,
   "id": "a716f036",
   "metadata": {
    "vscode": {
     "languageId": "r"
    }
   },
   "outputs": [
    {
     "name": "stderr",
     "output_type": "stream",
     "text": [
      "[2024-04-23 11:48:52] - Computing climatology...\n"
     ]
    },
    {
     "name": "stderr",
     "output_type": "stream",
     "text": [
      "[2024-04-23 11:48:53] - Done.\n",
      "[2024-04-23 11:48:53] - Computing climatology...\n",
      "[2024-04-23 11:48:53] - Done.\n"
     ]
    },
    {
     "data": {
      "image/png": "[encoded data removed]",
      "text/plain": [
       "plot without title"
      ]
     },
     "metadata": {},
     "output_type": "display_data"
    }
   ],
   "source": [
    "spatialPlot(makeMultiGrid(climatology(obs.data),climatology(rcm.rcp85.interp), skip.temporal.check = TRUE) , backdrop.theme = \"coastline\", \n",
    "            rev.colors = TRUE,  at= seq(0,25), main= \"Temperatura máxima en Iberia\", as.table=TRUE, \n",
    "            names.attr=c(\"OBS\", \"RCM interpolado\"), layout=c(2,1)) # pinta ambos en las latitudes que tocan"
   ]
  },
  {
   "cell_type": "code",
   "execution_count": 29,
   "id": "11012aa3",
   "metadata": {
    "vscode": {
     "languageId": "r"
    }
   },
   "outputs": [
    {
     "name": "stderr",
     "output_type": "stream",
     "text": [
      "[2024-04-23 11:48:59] Trying to determine the time zone...\n",
      "[2024-04-23 11:48:59] Time zone identified and set to GMT\n",
      "See 'setGridDates.asPOSIXlt' to change the time zone\n"
     ]
    },
    {
     "name": "stderr",
     "output_type": "stream",
     "text": [
      "[2024-04-23 11:49:00] Already complete date record. Nothing was done\n",
      "[2024-04-23 11:49:00] Trying to determine the time zone...\n",
      "[2024-04-23 11:49:00] Time zone identified and set to GMT\n",
      "See 'setGridDates.asPOSIXlt' to change the time zone\n",
      "[2024-04-23 11:49:01] Already complete date record. Nothing was done\n",
      "[2024-04-23 11:49:01] Trying to determine the time zone...\n",
      "[2024-04-23 11:49:01] Time zone identified and set to GMT\n",
      "See 'setGridDates.asPOSIXlt' to change the time zone\n",
      "[2024-04-23 11:49:02] Already complete date record. Nothing was done\n",
      "[2024-04-23 11:49:04] Argument precipitation is set as FALSE, please ensure that this matches your data.\n",
      "[2024-04-23 11:49:06] Number of windows considered: 1...\n",
      "[2024-04-23 11:49:06] Bias-correcting 1 members separately...\n",
      "[2024-04-23 11:49:10] Done.\n",
      "[2024-04-23 11:49:10] Trying to determine the time zone...\n",
      "[2024-04-23 11:49:10] Time zone identified and set to GMT\n",
      "See 'setGridDates.asPOSIXlt' to change the time zone\n",
      "[2024-04-23 11:49:11] Already complete date record. Nothing was done\n",
      "[2024-04-23 11:49:11] Trying to determine the time zone...\n",
      "[2024-04-23 11:49:11] Time zone identified and set to GMT\n",
      "See 'setGridDates.asPOSIXlt' to change the time zone\n",
      "[2024-04-23 11:49:11] Already complete date record. Nothing was done\n",
      "[2024-04-23 11:49:11] Trying to determine the time zone...\n",
      "[2024-04-23 11:49:12] Time zone identified and set to GMT\n",
      "See 'setGridDates.asPOSIXlt' to change the time zone\n",
      "[2024-04-23 11:49:12] Already complete date record. Nothing was done\n",
      "[2024-04-23 11:49:14] Argument precipitation is set as FALSE, please ensure that this matches your data.\n",
      "[2024-04-23 11:49:16] Number of windows considered: 1...\n",
      "[2024-04-23 11:49:16] Bias-correcting 1 members separately...\n",
      "[2024-04-23 11:49:20] Done.\n"
     ]
    }
   ],
   "source": [
    "##########################\n",
    "# *** Bias correction ****\n",
    "##########################\n",
    "bc.scaling.fut <- biasCorrection(y=obs.data, x=rcm.hist.interp, newdata= rcm.rcp85.interp, precipitation = FALSE, \n",
    "                             method=\"scaling\", scaling.type=\"additive\" ) # correción solo de la media (aditiva para temperatura)\n",
    "bc.eqm.fut <- biasCorrection(y=obs.data, x=rcm.hist.interp, newdata= rcm.rcp85.interp, precipitation = FALSE, \n",
    "                         method=\"eqm\", extrapolation = \"constant\", n.quantiles=99 )  # corrección de 99 percentiles\n",
    "\n",
    "                         \n",
    "# bc.pqm.fut <- biasCorrection(y=obs.data, x=rcm.hist.interp, newdata= rcm.rcp85.interp, precipitation = FALSE, \n",
    "#                          method=\"pqm\", extrapolation = \"constant\", n.quantiles=99 )  # corrección de 99 percentiles\n",
    "# bc.gpqm.fut <- biasCorrection(y=obs.data, x=rcm.hist.interp, newdata= rcm.rcp85.interp, precipitation = FALSE, \n",
    "#                          method=\"gpqm\", extrapolation = \"constant\", n.quantiles=99 )  # corrección de 99 percentiles"
   ]
  },
  {
   "cell_type": "code",
   "execution_count": 31,
   "id": "8109f54b",
   "metadata": {
    "vscode": {
     "languageId": "r"
    }
   },
   "outputs": [
    {
     "name": "stderr",
     "output_type": "stream",
     "text": [
      "[2024-04-23 11:49:38] - Computing climatology...\n",
      "[2024-04-23 11:49:38] - Done.\n",
      "[2024-04-23 11:49:38] - Computing climatology...\n",
      "[2024-04-23 11:49:38] - Done.\n",
      "[2024-04-23 11:49:38] - Computing climatology...\n",
      "[2024-04-23 11:49:38] - Done.\n",
      "[2024-04-23 11:49:38] - Computing climatology...\n",
      "[2024-04-23 11:49:38] - Done.\n",
      "[2024-04-23 11:49:38] - Computing climatology...\n",
      "[2024-04-23 11:49:38] - Done.\n",
      "[2024-04-23 11:49:39] - Computing climatology...\n",
      "[2024-04-23 11:49:39] - Done.\n"
     ]
    }
   ],
   "source": [
    "# Calcular el sesgo de los datos sin corregir (raw) y de las dos correcciones en la media\n",
    "bias.raw.mean.fut <- gridArithmetics(climatology(rcm.rcp85.interp), climatology(rcm.hist.interp), operator=\"-\")\n",
    "bias.scaling.mean.fut <- gridArithmetics(climatology(bc.scaling.fut), climatology(bc.scaling.hist), operator=\"-\")\n",
    "bias.eqm.mean.fut <- gridArithmetics(climatology(bc.eqm.fut), climatology(bc.eqm.hist), operator=\"-\")\n",
    "# bias.pqm.mean.fut <- gridArithmetics(climatology(bc.pqm.fut), climatology(rcm.hist.interp), operator=\"-\")\n",
    "# bias.gpqm.mean.fut <- gridArithmetics(climatology(bc.gpqm.fut), climatology(rcm.hist.interp), operator=\"-\")"
   ]
  },
  {
   "cell_type": "code",
   "execution_count": 52,
   "id": "94e2da08",
   "metadata": {
    "vscode": {
     "languageId": "r"
    }
   },
   "outputs": [
    {
     "name": "stderr",
     "output_type": "stream",
     "text": [
      "[2024-04-08 13:33:05] - Computing climatology...\n",
      "[2024-04-08 13:33:05] - Done.\n",
      "[2024-04-08 13:33:05] - Computing climatology...\n",
      "[2024-04-08 13:33:05] - Done.\n",
      "[2024-04-08 13:33:06] - Computing climatology...\n",
      "[2024-04-08 13:33:06] - Done.\n",
      "[2024-04-08 13:33:06] - Computing climatology...\n",
      "[2024-04-08 13:33:06] - Done.\n",
      "[2024-04-08 13:33:07] - Computing climatology...\n",
      "[2024-04-08 13:33:07] - Done.\n",
      "[2024-04-08 13:33:07] - Computing climatology...\n",
      "[2024-04-08 13:33:07] - Done.\n",
      "[2024-04-08 13:33:07] - Computing climatology...\n",
      "[2024-04-08 13:33:07] - Done.\n",
      "[2024-04-08 13:33:08] - Computing climatology...\n",
      "[2024-04-08 13:33:08] - Done.\n",
      "[2024-04-08 13:33:08] - Computing climatology...\n",
      "[2024-04-08 13:33:09] - Done.\n",
      "[2024-04-08 13:33:09] - Computing climatology...\n",
      "[2024-04-08 13:33:09] - Done.\n"
     ]
    }
   ],
   "source": [
    "# # Calcular el sesgo de los datos sin corregir (raw) y de las dos correcciones en la media\n",
    "# bias.raw.mean <- gridArithmetics(climatology(rcm.rcp85.interp), climatology(obs.data), operator=\"-\")\n",
    "# bias.scaling.mean <- gridArithmetics(climatology(bc.scaling), climatology(obs.data), operator=\"-\")\n",
    "# bias.eqm.mean <- gridArithmetics(climatology(bc.eqm), climatology(obs.data), operator=\"-\")\n",
    "# bias.pqm.mean <- gridArithmetics(climatology(bc.pqm), climatology(obs.data), operator=\"-\")\n",
    "# bias.gpqm.mean <- gridArithmetics(climatology(bc.gpqm), climatology(obs.data), operator=\"-\")"
   ]
  },
  {
   "cell_type": "code",
   "execution_count": 32,
   "id": "d65055d8",
   "metadata": {
    "vscode": {
     "languageId": "r"
    }
   },
   "outputs": [
    {
     "data": {
      "image/png": "[encoded data removed]",
      "text/plain": [
       "plot without title"
      ]
     },
     "metadata": {},
     "output_type": "display_data"
    }
   ],
   "source": [
    "spatialPlot(makeMultiGrid(bias.raw.mean.fut, bias.scaling.mean.fut, bias.eqm.mean.fut), backdrop.theme = \"coastline\", \n",
    "            rev.colors = TRUE,  at= seq(-6,6), main= \"Sesgo en la temperatura máxima (promedio)\", layout=c(3,2),\n",
    "            as.table=TRUE, names.attr=c(\"RAW\", \"BC (scaling)\", \"BC (eqm)\"))"
   ]
  },
  {
   "cell_type": "code",
   "execution_count": 50,
   "id": "2c148042",
   "metadata": {
    "vscode": {
     "languageId": "r"
    }
   },
   "outputs": [
    {
     "name": "stderr",
     "output_type": "stream",
     "text": [
      "[2024-04-08 13:24:38] - Computing climatology...\n",
      "[2024-04-08 13:24:38] - Done.\n"
     ]
    },
    {
     "data": {
      "image/png": "[encoded data removed]",
      "text/plain": [
       "plot without title"
      ]
     },
     "metadata": {},
     "output_type": "display_data"
    }
   ],
   "source": [
    "spatialPlot(climatology(raw.tx35))"
   ]
  },
  {
   "cell_type": "code",
   "execution_count": 55,
   "id": "805539bd",
   "metadata": {
    "vscode": {
     "languageId": "r"
    }
   },
   "outputs": [
    {
     "name": "stderr",
     "output_type": "stream",
     "text": [
      "[2024-04-08 13:34:05] Calculating TXth ...\n",
      "[2024-04-08 13:34:05] Done\n",
      "[2024-04-08 13:34:06] Calculating TXth ...\n",
      "[2024-04-08 13:34:07] Done\n",
      "[2024-04-08 13:34:08] Calculating TXth ...\n",
      "[2024-04-08 13:34:09] Done\n",
      "[2024-04-08 13:34:09] Calculating TXth ...\n",
      "[2024-04-08 13:34:10] Done\n",
      "[2024-04-08 13:34:11] Calculating TXth ...\n",
      "[2024-04-08 13:34:12] Done\n",
      "[2024-04-08 13:34:12] Calculating TXth ...\n",
      "[2024-04-08 13:34:14] Done\n"
     ]
    }
   ],
   "source": [
    "# calcular el sesgo de ambos en el número de días por encima de 35 grados, año a año\n",
    "obs.tx35 <- indexGrid(tx = obs.data, time.resolution = \"year\", index.code = \"TXth\", th=35)\n",
    "raw.tx35 <- indexGrid(tx = rcm.rcp85.interp, time.resolution = \"year\", index.code = \"TXth\", th=35)\n",
    "# por alguna razón biasCorrection devuelve fechas en un formato distinto y no le gustan a indexGrid (hago un apaño)\n",
    "bc.scaling$Dates <- rcm.rcp85.interp$Dates\n",
    "bc.eqm$Dates <- rcm.rcp85.interp$Dates\n",
    "bc.pqm$Dates <- rcm.rcp85.interp$Dates\n",
    "bc.gpqm$Dates <- rcm.rcp85.interp$Dates\n",
    "bc.scaling.tx35 <- indexGrid(tx = bc.scaling, time.resolution = \"year\", index.code = \"TXth\", th=35)\n",
    "bc.eqm.tx35 <- indexGrid(tx = bc.eqm, time.resolution = \"year\", index.code = \"TXth\", th=35)\n",
    "bc.pqm.tx35 <- indexGrid(tx = bc.pqm, time.resolution = \"year\", index.code = \"TXth\", th=35)\n",
    "bc.gpqm.tx35 <- indexGrid(tx = bc.gpqm, time.resolution = \"year\", index.code = \"TXth\", th=35)"
   ]
  },
  {
   "cell_type": "code",
   "execution_count": 56,
   "id": "d8ec29f4",
   "metadata": {
    "vscode": {
     "languageId": "r"
    }
   },
   "outputs": [
    {
     "name": "stderr",
     "output_type": "stream",
     "text": [
      "[2024-04-08 13:34:15] - Computing climatology...\n",
      "[2024-04-08 13:34:15] - Done.\n",
      "[2024-04-08 13:34:15] - Computing climatology...\n",
      "[2024-04-08 13:34:15] - Done.\n"
     ]
    },
    {
     "name": "stderr",
     "output_type": "stream",
     "text": [
      "[2024-04-08 13:34:15] - Computing climatology...\n",
      "[2024-04-08 13:34:15] - Done.\n",
      "[2024-04-08 13:34:15] - Computing climatology...\n",
      "[2024-04-08 13:34:15] - Done.\n",
      "[2024-04-08 13:34:15] - Computing climatology...\n",
      "[2024-04-08 13:34:15] - Done.\n",
      "[2024-04-08 13:34:15] - Computing climatology...\n",
      "[2024-04-08 13:34:15] - Done.\n",
      "[2024-04-08 13:34:15] - Computing climatology...\n",
      "[2024-04-08 13:34:15] - Done.\n",
      "[2024-04-08 13:34:15] - Computing climatology...\n",
      "[2024-04-08 13:34:15] - Done.\n",
      "[2024-04-08 13:34:15] - Computing climatology...\n",
      "[2024-04-08 13:34:15] - Done.\n",
      "[2024-04-08 13:34:15] - Computing climatology...\n",
      "[2024-04-08 13:34:15] - Done.\n"
     ]
    }
   ],
   "source": [
    "bias.raw.tx35 <- gridArithmetics(climatology(raw.tx35), climatology(obs.tx35), operator=\"-\")\n",
    "bias.scaling.tx35 <- gridArithmetics(climatology(bc.scaling.tx35), climatology(obs.tx35), operator=\"-\")\n",
    "bias.eqm.tx35 <- gridArithmetics(climatology(bc.eqm.tx35), climatology(obs.tx35), operator=\"-\")\n",
    "bias.pqm.tx35 <- gridArithmetics(climatology(bc.pqm.tx35), climatology(obs.tx35), operator=\"-\")\n",
    "bias.gpqm.tx35 <- gridArithmetics(climatology(bc.gpqm.tx35), climatology(obs.tx35), operator=\"-\")"
   ]
  },
  {
   "cell_type": "code",
   "execution_count": 59,
   "id": "7da4475f",
   "metadata": {
    "vscode": {
     "languageId": "r"
    }
   },
   "outputs": [
    {
     "data": {
      "image/png": "[encoded data removed]",
      "text/plain": [
       "plot without title"
      ]
     },
     "metadata": {},
     "output_type": "display_data"
    }
   ],
   "source": [
    "spatialPlot(makeMultiGrid(bias.raw.tx35, bias.scaling.tx35, bias.eqm.tx35, bias.pqm.tx35, bias.gpqm.tx35), backdrop.theme = \"coastline\", \n",
    "            rev.colors = TRUE,  at= seq(-30,30,5), main= \"Sesgo en TX35\", layout=c(3,2),\n",
    "            as.table=TRUE, names.attr=c(\"RAW\", \"BC (scaling)\", \"BC (eqm)\", \"BC(pqm)\", \"BC(gpqm)\"))"
   ]
  },
  {
   "cell_type": "code",
   "execution_count": 21,
   "id": "ade09c6f",
   "metadata": {
    "vscode": {
     "languageId": "r"
    }
   },
   "outputs": [],
   "source": [
    "#####################################\n",
    "# *** Rutas de datos para python ****\n",
    "#####################################\n",
    "# Ruta de observaciones\n",
    "#\"https://data.meteo.unican.es/thredds/dodsC/mirrors/W5E5/w5e5_20210705\"\n",
    "# Ruta de RCM simulación histórica\n",
    "#\"https://data.meteo.unican.es/thredds/dodsC/esgf/replica/temporal/CORDEX/output/EUR-44/KNMI/ICHEC-EC-EARTH/historical/r1i1p1/RACMO22E/v1/day/v20140304/CORDEX_output_EUR-44_KNMI_ICHEC-EC-EARTH_historical_r1i1p1_RACMO22E_v1_day_tasmax_v20140304.ncml\"\n",
    "# Ruta de land fraction\n",
    "#\"https://data.meteo.unican.es/thredds/dodsC/esgf/replica/temporal/CORDEX/output/EUR-44/KNMI/ICHEC-EC-EARTH/historical/r1i1p1/RACMO22E/v1/fx/v20140207/CORDEX_output_EUR-44_KNMI_ICHEC-EC-EARTH_historical_r1i1p1_RACMO22E_v1_fx_sftlf_v20140207.ncml\"\n",
    "# Ruta de RCM simulación de futuro\n",
    "# \"https://data.meteo.unican.es/thredds/dodsC/esgf/replica/temporal/CORDEX/output/EUR-44/KNMI/ICHEC-EC-EARTH/rcp85/r1i1p1/RACMO22E/v1/day/v20140304/CORDEX_output_EUR-44_KNMI_ICHEC-EC-EARTH_rcp85_r1i1p1_RACMO22E_v1_day_tasmax_v20140304.ncml\"\n"
   ]
  }
 ],
 "metadata": {
  "kernelspec": {
   "display_name": "R",
   "language": "R",
   "name": "ir"
  },
  "language_info": {
   "codemirror_mode": "r",
   "file_extension": ".r",
   "mimetype": "text/x-r-source",
   "name": "R",
   "pygments_lexer": "r",
   "version": "3.6.1"
  }
 },
 "nbformat": 4,
 "nbformat_minor": 5
}
